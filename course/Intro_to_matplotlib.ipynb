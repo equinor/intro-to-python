{
 "cells": [
  {
   "cell_type": "markdown",
   "metadata": {
    "editable": true,
    "slideshow": {
     "slide_type": ""
    },
    "tags": []
   },
   "source": [
    "# Introduction to matplotlib\n",
    "\n",
    "`matplotlib` is the Python plotting package to rule them all. Not because it's the best. Or the easiest to use. Or the fastest. Or... wait, why is it the number 1 plotting package? Nobody knows! But it's everywhere, and making basic plots is... fine. It's really fine."
   ]
  },
  {
   "cell_type": "code",
   "execution_count": null,
   "metadata": {
    "editable": true,
    "slideshow": {
     "slide_type": ""
    },
    "tags": [
     "empty"
    ]
   },
   "outputs": [],
   "source": []
  },
  {
   "cell_type": "markdown",
   "metadata": {},
   "source": [
    "This is the `pyplot` interface to `matplotlib`. It's the easiest one to use, but it's less flexible than the so-called 'object-oriented' interface.\n",
    "\n",
    "Here's the official tutorial for the `pyplot` interface: https://matplotlib.org/tutorials/introductory/pyplot.html\n",
    "\n",
    "Producing the same plot with the object-oriented interface looks like this:"
   ]
  },
  {
   "cell_type": "code",
   "execution_count": null,
   "metadata": {
    "editable": true,
    "slideshow": {
     "slide_type": ""
    },
    "tags": [
     "empty"
    ]
   },
   "outputs": [],
   "source": []
  },
  {
   "cell_type": "markdown",
   "metadata": {},
   "source": [
    "For the rest of this lesson, we're going to use the object-oriented approach."
   ]
  },
  {
   "cell_type": "markdown",
   "metadata": {},
   "source": [
    "## Load some data"
   ]
  },
  {
   "cell_type": "code",
   "execution_count": null,
   "metadata": {
    "editable": true,
    "slideshow": {
     "slide_type": ""
    },
    "tags": []
   },
   "outputs": [],
   "source": [
    "import pandas as pd\n",
    "\n",
    "url = \"https://github.com/scienxlab/datasets/raw/refs/heads/main/kgs/panoma_data.xlsx\"\n",
    "\n",
    "df = pd.read_excel(url, sheet_name='data')\n",
    "df.head()"
   ]
  },
  {
   "cell_type": "code",
   "execution_count": null,
   "metadata": {
    "editable": true,
    "slideshow": {
     "slide_type": ""
    },
    "tags": [
     "empty"
    ]
   },
   "outputs": [],
   "source": []
  },
  {
   "cell_type": "markdown",
   "metadata": {
    "editable": true,
    "slideshow": {
     "slide_type": ""
    },
    "tags": [
     "exercise"
    ]
   },
   "source": [
    "<div style=\"background: #e0ffe0; border: solid 2px #d0f0d0; border-radius:3px; padding: 1em; color: darkgreen\">\n",
    "\n",
    "<h3>EXERCISE</h3>\n",
    "\n",
    "- Make the following variables, using only the SHRIMPLIN well. For each one, add `.to_numpy()` at the end so we end up with a NumPy array, not a Pandas object.\n",
    "  - `gr`: the GR log.\n",
    "  - `phi`: the PHIND log.\n",
    "  - `depth`: the depth column.\n",
    "  - `facies`: the facies column.\n",
    "- Make the following plots:\n",
    "  - Plot GR on its own. What does the _x_ axis represent?\n",
    "  - Plot GR vs depth (ie with depth on the _x_ axis).\n",
    "  - Plot depth vs GR.\n",
    "  - Add `color='red'` to your call to `ax.plot()`.\n",
    "  - What happens if you add another line with `ax.set_ylim(840, 920)`?\n",
    "  - Switch the values in `ax.set_ylim()`.\n",
    "  - Try instantiating the figure with `plt.subplots(figsize=(2,10))` at the start.\n",
    "</div>"
   ]
  },
  {
   "cell_type": "code",
   "execution_count": null,
   "metadata": {
    "editable": true,
    "slideshow": {
     "slide_type": ""
    },
    "tags": [
     "empty"
    ]
   },
   "outputs": [],
   "source": []
  },
  {
   "cell_type": "code",
   "execution_count": null,
   "metadata": {
    "editable": true,
    "slideshow": {
     "slide_type": ""
    },
    "tags": [
     "empty"
    ]
   },
   "outputs": [],
   "source": []
  },
  {
   "cell_type": "code",
   "execution_count": null,
   "metadata": {
    "editable": true,
    "slideshow": {
     "slide_type": ""
    },
    "tags": [
     "empty"
    ]
   },
   "outputs": [],
   "source": []
  },
  {
   "cell_type": "markdown",
   "metadata": {
    "editable": true,
    "slideshow": {
     "slide_type": ""
    },
    "tags": []
   },
   "source": [
    "We can add another subplot:"
   ]
  },
  {
   "cell_type": "code",
   "execution_count": null,
   "metadata": {
    "editable": true,
    "slideshow": {
     "slide_type": ""
    },
    "tags": []
   },
   "outputs": [],
   "source": [
    "# Build this up.\n",
    "fig, (ax0, ax1) = plt.subplots(ncols=2, figsize=(4, 6), sharey=True)\n",
    "\n",
    "ax0.plot(gr, depth, lw=0.5)\n",
    "ax0.set_ylim(depth[-1]+10, depth[0]-10)\n",
    "ax0.set_xlabel('GR [API]')\n",
    "ax0.set_ylabel('Depth [m]')\n",
    "ax0.set_title('GR log')\n",
    "ax0.grid('k', alpha=0.3)\n",
    "\n",
    "ax1.plot(phi, depth, 'g', lw=0.5)\n",
    "ax1.set_ylim(depth[-1]+10, depth[0]-10)\n",
    "ax1.set_xlabel('Phi [v/v]')\n",
    "ax1.set_title('Phi log')\n",
    "ax1.grid('k', alpha=0.3)\n",
    "\n",
    "plt.show()  # <--- Note that you need this in a script."
   ]
  },
  {
   "cell_type": "markdown",
   "metadata": {
    "editable": true,
    "slideshow": {
     "slide_type": ""
    },
    "tags": []
   },
   "source": [
    "## `plt.scatter()`\n",
    "\n",
    "It's also easy to make scatter plots:"
   ]
  },
  {
   "cell_type": "code",
   "execution_count": null,
   "metadata": {
    "editable": true,
    "slideshow": {
     "slide_type": ""
    },
    "tags": [
     "empty"
    ]
   },
   "outputs": [],
   "source": []
  },
  {
   "cell_type": "markdown",
   "metadata": {
    "editable": true,
    "slideshow": {
     "slide_type": ""
    },
    "tags": []
   },
   "source": [
    "We can adjust how the points plot to make it more interesting:"
   ]
  },
  {
   "cell_type": "code",
   "execution_count": null,
   "metadata": {
    "editable": true,
    "slideshow": {
     "slide_type": ""
    },
    "tags": []
   },
   "outputs": [],
   "source": [
    "fig, ax = plt.subplots()\n",
    "\n",
    "ax.scatter(gr, phi, c=facies, s=10, alpha=0.5, cmap='tab10')\n",
    "ax.grid(c='k', alpha=0.1)"
   ]
  },
  {
   "cell_type": "markdown",
   "metadata": {
    "editable": true,
    "slideshow": {
     "slide_type": ""
    },
    "tags": []
   },
   "source": [
    "## `plt.hist()`\n",
    "\n",
    "We often want to look at the distribution of our data."
   ]
  },
  {
   "cell_type": "code",
   "execution_count": null,
   "metadata": {
    "editable": true,
    "slideshow": {
     "slide_type": ""
    },
    "tags": [
     "empty"
    ]
   },
   "outputs": [],
   "source": []
  },
  {
   "cell_type": "markdown",
   "metadata": {
    "editable": true,
    "slideshow": {
     "slide_type": ""
    },
    "tags": []
   },
   "source": [
    "Note that we can also pass Pandas objects, eg Series, to `matplotlib`:"
   ]
  },
  {
   "cell_type": "code",
   "execution_count": null,
   "metadata": {
    "editable": true,
    "slideshow": {
     "slide_type": ""
    },
    "tags": [
     "empty"
    ]
   },
   "outputs": [],
   "source": []
  },
  {
   "cell_type": "markdown",
   "metadata": {
    "editable": true,
    "slideshow": {
     "slide_type": ""
    },
    "tags": []
   },
   "source": [
    "In general, `seaborn` makes nicer histograms, and adds a KDE (kernel density estimation) plot. It also prefers data without NaNs though..."
   ]
  },
  {
   "cell_type": "code",
   "execution_count": null,
   "metadata": {
    "editable": true,
    "slideshow": {
     "slide_type": ""
    },
    "tags": []
   },
   "outputs": [],
   "source": [
    "import seaborn as sns\n",
    "\n",
    "ax = sns.histplot(gr, kde=True, lw=0)"
   ]
  },
  {
   "cell_type": "markdown",
   "metadata": {
    "editable": true,
    "slideshow": {
     "slide_type": ""
    },
    "tags": []
   },
   "source": [
    "We can also pass DataFrames to Seaborn, with a lot of extra options, eg using columns directly for colour etc."
   ]
  },
  {
   "cell_type": "code",
   "execution_count": null,
   "metadata": {
    "editable": true,
    "slideshow": {
     "slide_type": ""
    },
    "tags": []
   },
   "outputs": [],
   "source": [
    "ax = sns.kdeplot(df, x='GR', hue='Well Name')"
   ]
  },
  {
   "cell_type": "markdown",
   "metadata": {
    "editable": true,
    "slideshow": {
     "slide_type": ""
    },
    "tags": []
   },
   "source": [
    "## `plt.imshow()` for raster data\n",
    "\n",
    "For image-like data, such as slices of seismic, we need a different kind of visualization. \n",
    "\n",
    "NB There's also `plt.pcolor` but it's very slow. Use `plt.pcolormesh` instead.\n",
    "\n",
    "Let's load some seismic data!"
   ]
  },
  {
   "cell_type": "code",
   "execution_count": null,
   "metadata": {
    "editable": true,
    "slideshow": {
     "slide_type": ""
    },
    "tags": []
   },
   "outputs": [],
   "source": [
    "import pooch\n",
    "\n",
    "spot = pooch.create(path='../data',\n",
    "                    base_url=\"https://github.com/scienxlab/datasets/raw/refs/heads/main/nlog\",\n",
    "                    registry={\n",
    "                        \"F3_3x3_16-bit_int.npy\": 'md5:b929b851df1bf729e08ebf8f8e2b53d1',\n",
    "                        \"F3_FS4_horizon.npy\": 'md5:06efe43cbabf266743e07b53f5af0b86',\n",
    "                        \"F3_FS8_horizon.npy\": 'md5:657858149000397c638ce6cf0cd9694d',\n",
    "                        \"F3_Demo_0_FS4.dat\": 'md5:68851622ed91d6890ddc500739a3b96d',\n",
    "                    })\n",
    "\n",
    "fname = spot.fetch('F3_3x3_16-bit_int.npy')\n",
    "\n",
    "vol = np.load(fname)\n",
    "vol"
   ]
  },
  {
   "cell_type": "code",
   "execution_count": null,
   "metadata": {
    "editable": true,
    "slideshow": {
     "slide_type": ""
    },
    "tags": [
     "empty"
    ]
   },
   "outputs": [],
   "source": []
  },
  {
   "cell_type": "code",
   "execution_count": null,
   "metadata": {
    "editable": true,
    "slideshow": {
     "slide_type": ""
    },
    "tags": [
     "empty"
    ]
   },
   "outputs": [],
   "source": []
  },
  {
   "cell_type": "markdown",
   "metadata": {
    "editable": true,
    "slideshow": {
     "slide_type": ""
    },
    "tags": []
   },
   "source": [
    "Adding a colorbar requires a little extra code. We can also make it larger."
   ]
  },
  {
   "cell_type": "code",
   "execution_count": null,
   "metadata": {
    "editable": true,
    "slideshow": {
     "slide_type": ""
    },
    "tags": [
     "empty"
    ]
   },
   "outputs": [],
   "source": []
  },
  {
   "cell_type": "markdown",
   "metadata": {
    "editable": true,
    "slideshow": {
     "slide_type": ""
    },
    "tags": [
     "exercise"
    ]
   },
   "source": [
    "<div style=\"background: #e0ffe0; border: solid 2px #d0f0d0; border-radius:3px; padding: 1em; color: darkgreen\">\n",
    "\n",
    "<h3>Exercise</h3>\n",
    "\n",
    "- Try plotting a vertical section through the data. You'll need to think about indexing into `vol`.\n",
    "- Can you make a histogram of the amplitudes? Tip: Use only one slice of the data and use the `ravel()` method on it to change it into a 1D array. If there are NaNs in the data, you may need to deal with them.\n",
    "</div>"
   ]
  },
  {
   "cell_type": "code",
   "execution_count": null,
   "metadata": {
    "editable": true,
    "slideshow": {
     "slide_type": ""
    },
    "tags": [
     "empty"
    ]
   },
   "outputs": [],
   "source": []
  },
  {
   "cell_type": "code",
   "execution_count": null,
   "metadata": {
    "editable": true,
    "slideshow": {
     "slide_type": ""
    },
    "tags": [
     "empty"
    ]
   },
   "outputs": [],
   "source": []
  },
  {
   "cell_type": "markdown",
   "metadata": {
    "editable": true,
    "slideshow": {
     "slide_type": ""
    },
    "tags": []
   },
   "source": [
    "## More `imshow` options"
   ]
  },
  {
   "cell_type": "code",
   "execution_count": null,
   "metadata": {
    "editable": true,
    "slideshow": {
     "slide_type": ""
    },
    "tags": []
   },
   "outputs": [],
   "source": [
    "fig, ax = plt.subplots()\n",
    "im = ax.imshow(vol[:50, :50, 200], interpolation='bicubic')\n",
    "plt.colorbar(im)"
   ]
  },
  {
   "cell_type": "markdown",
   "metadata": {
    "editable": true,
    "slideshow": {
     "slide_type": ""
    },
    "tags": []
   },
   "source": [
    "Note that the colorbar is no longer symmetric. We can set the min and max of the display:"
   ]
  },
  {
   "cell_type": "code",
   "execution_count": null,
   "metadata": {
    "editable": true,
    "slideshow": {
     "slide_type": ""
    },
    "tags": []
   },
   "outputs": [],
   "source": [
    "vol.min(), vol.max()"
   ]
  },
  {
   "cell_type": "code",
   "execution_count": null,
   "metadata": {
    "editable": true,
    "slideshow": {
     "slide_type": ""
    },
    "tags": []
   },
   "outputs": [],
   "source": [
    "fig, ax = plt.subplots()\n",
    "im = ax.imshow(vol[:50, :50, 200], vmin=-20_000, vmax=20_000)\n",
    "plt.colorbar(im)"
   ]
  },
  {
   "cell_type": "markdown",
   "metadata": {
    "editable": true,
    "slideshow": {
     "slide_type": ""
    },
    "tags": []
   },
   "source": [
    "Best is to use percentiles, eg:"
   ]
  },
  {
   "cell_type": "code",
   "execution_count": null,
   "metadata": {
    "editable": true,
    "slideshow": {
     "slide_type": ""
    },
    "tags": []
   },
   "outputs": [],
   "source": [
    "M = np.percentile(vol, 99.0)"
   ]
  },
  {
   "cell_type": "markdown",
   "metadata": {
    "editable": true,
    "slideshow": {
     "slide_type": ""
    },
    "tags": []
   },
   "source": [
    "We can choose new colourmaps easily, and post the colorbar."
   ]
  },
  {
   "cell_type": "code",
   "execution_count": null,
   "metadata": {
    "editable": true,
    "slideshow": {
     "slide_type": ""
    },
    "tags": []
   },
   "outputs": [],
   "source": [
    "fig, ax = plt.subplots()\n",
    "ax.imshow(vol[..., 300], cmap='gray', vmin=-M, vmax=M)"
   ]
  },
  {
   "cell_type": "markdown",
   "metadata": {
    "editable": true,
    "slideshow": {
     "slide_type": ""
    },
    "tags": []
   },
   "source": [
    "Note too that matplotlib colourmaps all have reversed versions, just add `_r` to the end of the name."
   ]
  },
  {
   "cell_type": "code",
   "execution_count": null,
   "metadata": {
    "editable": true,
    "slideshow": {
     "slide_type": ""
    },
    "tags": []
   },
   "outputs": [],
   "source": [
    "fig, ax = plt.subplots()\n",
    "ax.imshow(vol[..., 300], cmap='RdBu_r', vmin=-M, vmax=M)"
   ]
  },
  {
   "cell_type": "markdown",
   "metadata": {
    "editable": true,
    "slideshow": {
     "slide_type": ""
    },
    "tags": []
   },
   "source": [
    "We can give the image inline-crossline coordinates or some other survey coordinates:"
   ]
  },
  {
   "cell_type": "code",
   "execution_count": null,
   "metadata": {
    "editable": true,
    "slideshow": {
     "slide_type": ""
    },
    "tags": []
   },
   "outputs": [],
   "source": [
    "fig, ax = plt.subplots()\n",
    "ax.imshow(vol[:50, :50, 200], extent=[10000, 11000, 200000, 201000], vmin=-M, vmax=M)"
   ]
  },
  {
   "cell_type": "markdown",
   "metadata": {
    "editable": true,
    "slideshow": {
     "slide_type": ""
    },
    "tags": []
   },
   "source": [
    "Notice that `plt.imshow()` assumes your pixels are square."
   ]
  },
  {
   "cell_type": "markdown",
   "metadata": {
    "editable": true,
    "slideshow": {
     "slide_type": ""
    },
    "tags": []
   },
   "source": [
    "## Contour maps and plotting multiple datasets\n",
    "\n",
    "Let's load a horizon. We have a DAT file, exported from OpendTect. We've left it in its original format, which looks like this:\n",
    "\n",
    "```\n",
    "# 1: X\n",
    "# 2: Y\n",
    "# 3: Inline\n",
    "# 4: Crossline\n",
    "# 5: Z\n",
    "# - - - - - - - - - -\n",
    "612076.10\t6073980.89\t110\t550\t1069.591283798217773\n",
    "612126.08\t6073982.28\t110\t552\t1069.051265716552734\n",
    "612176.06\t6073983.68\t110\t554\t1068.311929702758789\n",
    "612226.04\t6073985.08\t110\t556\t1067.647337913513184\n",
    ".\n",
    ".\n",
    ".\n",
    "626557.62\t6085589.72\t558\t1142\t825.678706169128418\n",
    "626607.60\t6085591.12\t558\t1144\t823.747575283050537\n",
    "626657.58\t6085592.52\t558\t1146\t821.8720555305481\n",
    "626707.56\t6085593.91\t558\t1148\t820.536375045776367\n",
    "```\n",
    "\n",
    "We made a small library called `gio` (very much a work in progress!) to read files like this. It produces an `xarray.Dataset`, which is a collection of NumPy-array-like things that have Pandas-like indexing wrapped around them. Sounds weird, but they are very useful!"
   ]
  },
  {
   "cell_type": "code",
   "execution_count": null,
   "metadata": {
    "editable": true,
    "slideshow": {
     "slide_type": ""
    },
    "tags": []
   },
   "outputs": [],
   "source": [
    "import gio\n",
    "\n",
    "fname = spot.fetch('F3_Demo_0_FS4.dat')\n",
    "data = gio.read_odt(fname)['twt']  # Only one DataArray in this Dataset.\n",
    "data"
   ]
  },
  {
   "cell_type": "markdown",
   "metadata": {
    "editable": true,
    "slideshow": {
     "slide_type": ""
    },
    "tags": []
   },
   "source": [
    "One nice thing about DataArrays is that they can plot themselves:"
   ]
  },
  {
   "cell_type": "code",
   "execution_count": null,
   "metadata": {
    "editable": true,
    "slideshow": {
     "slide_type": ""
    },
    "tags": [
     "empty"
    ]
   },
   "outputs": [],
   "source": []
  },
  {
   "cell_type": "markdown",
   "metadata": {
    "editable": true,
    "slideshow": {
     "slide_type": ""
    },
    "tags": []
   },
   "source": [
    "The colorbar orientation is a problem though: I'd prefer it to be the other way up."
   ]
  },
  {
   "cell_type": "markdown",
   "metadata": {
    "editable": true,
    "slideshow": {
     "slide_type": ""
    },
    "tags": []
   },
   "source": [
    "Another nice thing is that they can give us their NumPy data; we'll get this and carry on in pure NumPy."
   ]
  },
  {
   "cell_type": "code",
   "execution_count": null,
   "metadata": {
    "editable": true,
    "slideshow": {
     "slide_type": ""
    },
    "tags": []
   },
   "outputs": [],
   "source": [
    "hor = data.to_numpy()\n",
    "\n",
    "hor"
   ]
  },
  {
   "cell_type": "markdown",
   "metadata": {
    "tags": [
     "exercise"
    ]
   },
   "source": [
    "<div style=\"background: #e0ffe0; border: solid 2px #d0f0d0; border-radius:3px; padding: 1em; color: darkgreen\">\n",
    "\n",
    "<h3>EXERCISE</h3>\n",
    "\n",
    "Plot this dataset using `imshow()`, adding a colorbar. \n",
    "</div>"
   ]
  },
  {
   "cell_type": "code",
   "execution_count": null,
   "metadata": {
    "editable": true,
    "slideshow": {
     "slide_type": ""
    },
    "tags": []
   },
   "outputs": [],
   "source": [
    "### YOUR CODE HERE\n",
    "\n"
   ]
  },
  {
   "cell_type": "markdown",
   "metadata": {
    "editable": true,
    "slideshow": {
     "slide_type": ""
    },
    "tags": []
   },
   "source": [
    "There's a 'filled contour' option too, `contourf`. Notice that it is plotted with the rows in a different order."
   ]
  },
  {
   "cell_type": "code",
   "execution_count": null,
   "metadata": {
    "editable": true,
    "slideshow": {
     "slide_type": ""
    },
    "tags": [
     "empty"
    ]
   },
   "outputs": [],
   "source": []
  },
  {
   "cell_type": "markdown",
   "metadata": {
    "editable": true,
    "slideshow": {
     "slide_type": ""
    },
    "tags": []
   },
   "source": [
    "We can also use `plt.contour()`"
   ]
  },
  {
   "cell_type": "code",
   "execution_count": null,
   "metadata": {
    "editable": true,
    "slideshow": {
     "slide_type": ""
    },
    "tags": [
     "empty"
    ]
   },
   "outputs": [],
   "source": []
  },
  {
   "cell_type": "markdown",
   "metadata": {
    "editable": true,
    "slideshow": {
     "slide_type": ""
    },
    "tags": []
   },
   "source": [
    "It's often nice to combine these:"
   ]
  },
  {
   "cell_type": "code",
   "execution_count": null,
   "metadata": {
    "editable": true,
    "slideshow": {
     "slide_type": ""
    },
    "tags": [
     "empty"
    ]
   },
   "outputs": [],
   "source": []
  },
  {
   "cell_type": "markdown",
   "metadata": {
    "editable": true,
    "slideshow": {
     "slide_type": ""
    },
    "tags": []
   },
   "source": [
    "## Interactive plots\n",
    "\n",
    "The `ipywidgets` package gives us an easy way to make interactive plots. \n",
    "\n",
    "About the simplest thing you can do is like this:"
   ]
  },
  {
   "cell_type": "code",
   "execution_count": null,
   "metadata": {
    "editable": true,
    "slideshow": {
     "slide_type": ""
    },
    "tags": []
   },
   "outputs": [],
   "source": [
    "from ipywidgets import interact\n",
    "\n",
    "@interact(a=(0, 10, 1), b=(0, 100, 10))\n",
    "def main(a, b):\n",
    "    \"\"\"Do the things!\"\"\"\n",
    "    print(a + b)\n",
    "    return"
   ]
  },
  {
   "cell_type": "markdown",
   "metadata": {
    "editable": true,
    "slideshow": {
     "slide_type": ""
    },
    "tags": []
   },
   "source": [
    "### EXERCISE\n",
    "\n",
    "Adapt the code above to make a slider for a plot of the seismic, eg `imshow` a timeslice and make the slider change the timeslice number."
   ]
  },
  {
   "cell_type": "code",
   "execution_count": null,
   "metadata": {
    "editable": true,
    "slideshow": {
     "slide_type": ""
    },
    "tags": [
     "empty"
    ]
   },
   "outputs": [],
   "source": []
  },
  {
   "cell_type": "markdown",
   "metadata": {
    "editable": true,
    "slideshow": {
     "slide_type": ""
    },
    "tags": []
   },
   "source": [
    "## Adding decoration\n",
    "\n",
    "So far we've kept most of our calls to matplotlib to one line or so.\n",
    "\n",
    "Things can get much, much more complicated... The good news is that plots are usually built up, bit by bit. So you start with the one-liner, then gradually add things:"
   ]
  },
  {
   "cell_type": "code",
   "execution_count": null,
   "metadata": {
    "editable": true,
    "slideshow": {
     "slide_type": ""
    },
    "tags": []
   },
   "outputs": [],
   "source": [
    "inline = 100\n",
    "\n",
    "fig, ax = plt.subplots()\n",
    "im = ax.imshow(vol[inline, :, :].T, cmap=\"gray\", vmin=-M, vmax=M)\n",
    "ax.plot(hor[inline, :]/4, 'limegreen', lw=2)  # THIS DOES NOT FIT :(\n",
    "ax.set_title(f\"F3 survey, inline {inline}\")\n",
    "fig.colorbar(im, shrink=0.67)"
   ]
  },
  {
   "cell_type": "code",
   "execution_count": null,
   "metadata": {
    "editable": true,
    "slideshow": {
     "slide_type": ""
    },
    "tags": []
   },
   "outputs": [],
   "source": [
    "# Put everything in seconds.\n",
    "inl, xl, ts = vol.shape\n",
    "extent = [0, xl, ts*0.004, 0]  # left, right, bottom, top\n",
    "\n",
    "fig, ax = plt.subplots()\n",
    "im = ax.imshow(vol[inline, :, :].T, cmap=\"gray\", vmin=-M, vmax=M, extent=extent, aspect='auto')\n",
    "ax.plot(hor[inline, :]/1000, 'limegreen', lw=2)\n",
    "ax.set_title(f\"Penobscot, inline {inline}\")\n",
    "ax.set_xlabel(\"Crossline\")\n",
    "ax.set_ylabel(\"Time [s]\")\n",
    "fig.colorbar(im, shrink=0.67)"
   ]
  },
  {
   "cell_type": "code",
   "execution_count": null,
   "metadata": {
    "editable": true,
    "slideshow": {
     "slide_type": ""
    },
    "tags": []
   },
   "outputs": [],
   "source": [
    "import matplotlib.patches as patches\n",
    "import requests\n",
    "from PIL import Image, ImageOps\n",
    "import io\n",
    "\n",
    "zoom = (230, 290, 0.75, 1.4)\n",
    "\n",
    "fig, axs = plt.subplots(ncols=2, figsize=(15, 6), gridspec_kw={'width_ratios': [2, 1]})\n",
    "\n",
    "# Plot the main subplot.\n",
    "ax = axs[0]\n",
    "im = ax.imshow(vol[inline, :, :].T,\n",
    "               extent=extent,\n",
    "               cmap=\"gray_r\",\n",
    "               vmin=-M, vmax=M,\n",
    "               aspect='auto',\n",
    "              )\n",
    "cb = fig.colorbar(im, ax=ax)\n",
    "ax.plot(hor[inline, :]/1000, 'limegreen', lw=2)\n",
    "zl, zr, zt, zb = zoom\n",
    "rect = patches.Rectangle((zl, zt), zr-zl, zb-zt, lw=1, ec='b', fc='none')\n",
    "ax.add_patch(rect)\n",
    "ax.set_title(f\"Penobscot, inline {inline}\")\n",
    "ax.set_xlabel(\"Crossline\")\n",
    "ax.set_ylabel(\"Time [s]\")\n",
    "ax.text(230, 0.72, \"zoom\", color='b', fontsize=12)\n",
    "\n",
    "# Add the polarity cartoon.\n",
    "r = requests.get(\"https://app.scienxlab.org/polarity.png?cmap=gray_r\")\n",
    "img = Image.open(io.BytesIO(r.content))\n",
    "img = ImageOps.expand(img, border=5, fill=(0, 0, 0))\n",
    "img.thumbnail((100, 100))\n",
    "fig.figimage(img, 80, 60)\n",
    "\n",
    "# Plot the zoomed area.\n",
    "ax = axs[1]\n",
    "im = ax.imshow(vol[inline].T,\n",
    "               extent=extent,\n",
    "               vmin=-M, vmax=M,\n",
    "               cmap='RdBu',\n",
    "               aspect='auto',\n",
    "              )\n",
    "ax.plot(hor[inline, :]/1000, 'limegreen', lw=2)\n",
    "for spine in ax.spines.values():\n",
    "    spine.set_edgecolor('blue')\n",
    "    spine.set_linewidth(2)\n",
    "fig.colorbar(im, ax=ax)\n",
    "ax.set_xlim(zl, zr)\n",
    "ax.set_ylim(zb, zt)\n",
    "ax.set_title('Zoomed area', color='b')\n",
    "ax.set_xlabel(\"Crossline\")\n",
    "\n",
    "plt.savefig(\"../data/my_figure.png\", dpi=300)\n",
    "plt.savefig(\"../data/my_figure.svg\")\n",
    "\n",
    "plt.show()"
   ]
  },
  {
   "cell_type": "markdown",
   "metadata": {
    "editable": true,
    "slideshow": {
     "slide_type": ""
    },
    "tags": []
   },
   "source": [
    "# How complicated do you want to get?\n",
    "\n",
    "It turns out you can do almost anything in `matplotlib`. This is a `matplotlib` figure:"
   ]
  },
  {
   "cell_type": "code",
   "execution_count": null,
   "metadata": {},
   "outputs": [],
   "source": [
    "from IPython.display import Image\n",
    "Image('../images/t1.png')"
   ]
  },
  {
   "cell_type": "markdown",
   "metadata": {},
   "source": [
    "The key method you need to make a tiled plot like this is [`gridspec`](https://matplotlib.org/users/gridspec.html). You will also need a lot of patience."
   ]
  },
  {
   "cell_type": "markdown",
   "metadata": {},
   "source": [
    "## Getting help\n",
    "\n",
    "- Gallery: https://matplotlib.org/3.1.1/gallery/index.html\n",
    "- Gallery: https://python-graph-gallery.com/matplotlib/\n",
    "- Cheatsheets: https://github.com/matplotlib/cheatsheets\n",
    "- Book: https://github.com/rougier/scientific-visualization-book"
   ]
  }
 ],
 "metadata": {
  "celltoolbar": "Tags",
  "kernelspec": {
   "display_name": "Python 3",
   "language": "python",
   "name": "Python 3"
  },
  "language_info": {
   "codemirror_mode": {
    "name": "ipython",
    "version": 3
   },
   "file_extension": ".py",
   "mimetype": "text/x-python",
   "name": "python",
   "nbconvert_exporter": "python",
   "pygments_lexer": "ipython3",
   "version": "3.13.3"
  }
 },
 "nbformat": 4,
 "nbformat_minor": 4
}
