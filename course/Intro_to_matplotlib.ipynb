{
 "cells": [
  {
   "cell_type": "markdown",
   "metadata": {
    "editable": true,
    "slideshow": {
     "slide_type": ""
    },
    "tags": []
   },
   "source": [
    "# Introduction to matplotlib\n",
    "\n",
    "`matplotlib` is the Python plotting package to rule them all. Not because it's the best. Or the easiest to use. Or the fastest. Or... wait, why is it the number 1 plotting package? Nobody knows! But it's everywhere, and making basic plots is... fine. It's really fine."
   ]
  },
  {
   "cell_type": "code",
   "execution_count": null,
   "metadata": {
    "editable": true,
    "slideshow": {
     "slide_type": ""
    },
    "tags": [
     "empty"
    ]
   },
   "outputs": [],
   "source": []
  },
  {
   "cell_type": "markdown",
   "metadata": {},
   "source": [
    "This is the `pyplot` interface to `matplotlib`. It's the easiest one to use, but it's less flexible than the so-called 'object-oriented' interface.\n",
    "\n",
    "Here's the official tutorial for the `pyplot` interface: https://matplotlib.org/tutorials/introductory/pyplot.html\n",
    "\n",
    "Producing the same plot with the object-oriented interface looks like this:"
   ]
  },
  {
   "cell_type": "code",
   "execution_count": null,
   "metadata": {
    "editable": true,
    "slideshow": {
     "slide_type": ""
    },
    "tags": [
     "empty"
    ]
   },
   "outputs": [],
   "source": []
  },
  {
   "cell_type": "markdown",
   "metadata": {},
   "source": [
    "For the rest of this lesson, we're going to use the object-oriented approach."
   ]
  },
  {
   "cell_type": "markdown",
   "metadata": {},
   "source": [
    "## Load some data"
   ]
  },
  {
   "cell_type": "code",
   "execution_count": null,
   "metadata": {
    "editable": true,
    "slideshow": {
     "slide_type": ""
    },
    "tags": []
   },
   "outputs": [],
   "source": [
    "import pandas as pd\n",
    "\n",
    "url = \"https://github.com/scienxlab/datasets/raw/refs/heads/main/kgs/panoma_data.xlsx\"\n",
    "\n",
    "df = pd.read_excel(url, sheet_name='data')\n",
    "df.head()"
   ]
  },
  {
   "cell_type": "code",
   "execution_count": null,
   "metadata": {
    "editable": true,
    "slideshow": {
     "slide_type": ""
    },
    "tags": [
     "empty"
    ]
   },
   "outputs": [],
   "source": []
  },
  {
   "cell_type": "markdown",
   "metadata": {
    "editable": true,
    "slideshow": {
     "slide_type": ""
    },
    "tags": [
     "exercise"
    ]
   },
   "source": [
    "<div style=\"background: #e0ffe0; border: solid 2px #d0f0d0; border-radius:3px; padding: 1em; color: darkgreen\">\n",
    "\n",
    "<h3>EXERCISE</h3>\n",
    "\n",
    "- Make the following variables, using only the SHRIMPLIN well. For each one, add `.to_numpy()` at the end so we end up with a NumPy array, not a Pandas object.\n",
    "  - `gr`: the GR log.\n",
    "  - `phi`: the PHIND log.\n",
    "  - `depth`: the depth column.\n",
    "  - `facies`: the facies column.\n",
    "- Make the following plots:\n",
    "  - Plot GR on its own. What does the _x_ axis represent?\n",
    "  - Plot GR vs depth (ie with depth on the _x_ axis).\n",
    "  - Plot depth vs GR.\n",
    "  - Add `color='red'` to your call to `ax.plot()`.\n",
    "  - What happens if you add another line with `ax.set_ylim(840, 920)`?\n",
    "  - Switch the values in `ax.set_ylim()`.\n",
    "  - Try instantiating the figure with `plt.subplots(figsize=(2,10))` at the start.\n",
    "</div>"
   ]
  },
  {
   "cell_type": "code",
   "execution_count": null,
   "metadata": {
    "editable": true,
    "slideshow": {
     "slide_type": ""
    },
    "tags": [
     "empty"
    ]
   },
   "outputs": [],
   "source": []
  },
  {
   "cell_type": "code",
   "execution_count": null,
   "metadata": {
    "editable": true,
    "slideshow": {
     "slide_type": ""
    },
    "tags": [
     "empty"
    ]
   },
   "outputs": [],
   "source": []
  },
  {
   "cell_type": "code",
   "execution_count": null,
   "metadata": {
    "editable": true,
    "slideshow": {
     "slide_type": ""
    },
    "tags": [
     "empty"
    ]
   },
   "outputs": [],
   "source": []
  },
  {
   "cell_type": "markdown",
   "metadata": {
    "editable": true,
    "slideshow": {
     "slide_type": ""
    },
    "tags": []
   },
   "source": [
    "---\n",
    "## Subplots\n",
    "\n",
    "We can add another subplot:"
   ]
  },
  {
   "cell_type": "code",
   "execution_count": null,
   "metadata": {
    "editable": true,
    "slideshow": {
     "slide_type": ""
    },
    "tags": []
   },
   "outputs": [],
   "source": [
    "fig, (ax0, ax1) = plt.subplots(ncols=2, figsize=(4, 6), sharey=True)\n",
    "\n",
    "ax0.plot(gr, depth, lw=0.5)\n",
    "ax0.set_ylim(depth[-1]+10, depth[0]-10)\n",
    "ax0.set_xlabel('GR [API]')\n",
    "ax0.set_ylabel('Depth [m]')\n",
    "ax0.set_title('GR log')\n",
    "ax0.grid('k', alpha=0.3)\n",
    "\n",
    "ax1.plot(phi, depth, 'g', lw=0.5)\n",
    "ax1.set_ylim(depth[-1]+10, depth[0]-10)\n",
    "ax1.set_xlabel('Phi [v/v]')\n",
    "ax1.set_title('Phi log')\n",
    "ax1.grid('k', alpha=0.3)\n",
    "\n",
    "fig.show()  # <--- Note that you need this in a script."
   ]
  },
  {
   "cell_type": "markdown",
   "metadata": {
    "editable": true,
    "slideshow": {
     "slide_type": ""
    },
    "tags": []
   },
   "source": [
    "## Save a figure\n",
    "\n",
    "We often want to save figures as files. There are really only two sensible formats for saving scientific graphics:\n",
    "\n",
    "- **PNG** — losslessly compressed rasters with defined resolution, which 'always work'.\n",
    "- **SVG** — scalable vector graphics, which work at any scale but can display unpredictably.\n",
    "\n",
    "In general, if you want to edit graphics before using them, export SVG and edit with Inkscape. Otherwise, make PNGs with a lot of pixels (at least 200 'dpi' whatever that means in 2025) and you can't go too far wrong. Don't use JPEG for graphics."
   ]
  },
  {
   "cell_type": "code",
   "execution_count": null,
   "metadata": {
    "editable": true,
    "slideshow": {
     "slide_type": ""
    },
    "tags": [
     "empty"
    ]
   },
   "outputs": [],
   "source": []
  },
  {
   "cell_type": "markdown",
   "metadata": {
    "editable": true,
    "slideshow": {
     "slide_type": ""
    },
    "tags": []
   },
   "source": [
    "## `plt.scatter()`\n",
    "\n",
    "It's also easy to make scatter plots:"
   ]
  },
  {
   "cell_type": "code",
   "execution_count": null,
   "metadata": {
    "editable": true,
    "slideshow": {
     "slide_type": ""
    },
    "tags": [
     "empty"
    ]
   },
   "outputs": [],
   "source": []
  },
  {
   "cell_type": "markdown",
   "metadata": {
    "editable": true,
    "slideshow": {
     "slide_type": ""
    },
    "tags": []
   },
   "source": [
    "We can adjust how the points plot to make it more interesting:"
   ]
  },
  {
   "cell_type": "code",
   "execution_count": null,
   "metadata": {
    "editable": true,
    "slideshow": {
     "slide_type": ""
    },
    "tags": []
   },
   "outputs": [],
   "source": [
    "fig, ax = plt.subplots()\n",
    "\n",
    "ax.scatter(gr, phi, c=facies, s=10, alpha=0.5, cmap='tab10', label=facies)\n",
    "ax.legend()\n",
    "ax.grid(c='k', alpha=0.1)"
   ]
  },
  {
   "cell_type": "markdown",
   "metadata": {
    "editable": true,
    "slideshow": {
     "slide_type": ""
    },
    "tags": []
   },
   "source": [
    "## `plt.hist()`\n",
    "\n",
    "We often want to look at the distribution of our data."
   ]
  },
  {
   "cell_type": "code",
   "execution_count": null,
   "metadata": {
    "editable": true,
    "slideshow": {
     "slide_type": ""
    },
    "tags": [
     "empty"
    ]
   },
   "outputs": [],
   "source": []
  },
  {
   "cell_type": "markdown",
   "metadata": {
    "editable": true,
    "slideshow": {
     "slide_type": ""
    },
    "tags": []
   },
   "source": [
    "Note that we can also pass Pandas objects, eg Series, to `matplotlib`:"
   ]
  },
  {
   "cell_type": "code",
   "execution_count": null,
   "metadata": {
    "editable": true,
    "slideshow": {
     "slide_type": ""
    },
    "tags": [
     "empty"
    ]
   },
   "outputs": [],
   "source": []
  },
  {
   "cell_type": "markdown",
   "metadata": {
    "editable": true,
    "slideshow": {
     "slide_type": ""
    },
    "tags": []
   },
   "source": [
    "In general, `seaborn` makes nicer histograms, and adds a KDE (kernel density estimation) plot. It also prefers data without NaNs though..."
   ]
  },
  {
   "cell_type": "code",
   "execution_count": null,
   "metadata": {
    "editable": true,
    "slideshow": {
     "slide_type": ""
    },
    "tags": []
   },
   "outputs": [],
   "source": [
    "import seaborn as sns\n",
    "\n",
    "ax = sns.histplot(gr, kde=True, lw=0)"
   ]
  },
  {
   "cell_type": "markdown",
   "metadata": {
    "editable": true,
    "slideshow": {
     "slide_type": ""
    },
    "tags": []
   },
   "source": [
    "We can also pass DataFrames to Seaborn, with a lot of extra options, eg using columns directly for colour etc."
   ]
  },
  {
   "cell_type": "code",
   "execution_count": null,
   "metadata": {
    "editable": true,
    "slideshow": {
     "slide_type": ""
    },
    "tags": []
   },
   "outputs": [],
   "source": [
    "ax = sns.kdeplot(df, x='GR', hue='Well Name')"
   ]
  },
  {
   "cell_type": "markdown",
   "metadata": {
    "editable": true,
    "slideshow": {
     "slide_type": ""
    },
    "tags": []
   },
   "source": [
    "## `plt.imshow()` and contour maps\n",
    "\n",
    "For image-like data, such as intensity maps or slices of seismic, we need a different kind of visualization. \n",
    "\n",
    "NB There's also `plt.pcolor` but it's very slow. Use `plt.pcolormesh` instead.\n",
    "\n",
    "Let's load a seismic horizon. We have a DAT file, exported from OpendTect. We've left it in its original format, which looks like this:\n",
    "\n",
    "```\n",
    "# 1: X\n",
    "# 2: Y\n",
    "# 3: Inline\n",
    "# 4: Crossline\n",
    "# 5: Z\n",
    "# - - - - - - - - - -\n",
    "612076.10\t6073980.89\t110\t550\t1069.591283798217773\n",
    "612126.08\t6073982.28\t110\t552\t1069.051265716552734\n",
    "612176.06\t6073983.68\t110\t554\t1068.311929702758789\n",
    "612226.04\t6073985.08\t110\t556\t1067.647337913513184\n",
    ".\n",
    ".\n",
    ".\n",
    "626557.62\t6085589.72\t558\t1142\t825.678706169128418\n",
    "626607.60\t6085591.12\t558\t1144\t823.747575283050537\n",
    "626657.58\t6085592.52\t558\t1146\t821.8720555305481\n",
    "626707.56\t6085593.91\t558\t1148\t820.536375045776367\n",
    "```\n",
    "\n",
    "We made a small library called `gio` (very much a work in progress!) to read files like this. It produces an `xarray.Dataset`, which is a collection of NumPy-array-like things that have Pandas-like indexing wrapped around them. Sounds weird, but they are very useful!"
   ]
  },
  {
   "cell_type": "code",
   "execution_count": null,
   "metadata": {
    "editable": true,
    "slideshow": {
     "slide_type": ""
    },
    "tags": []
   },
   "outputs": [],
   "source": [
    "import requests\n",
    "import gio\n",
    "import pathlib\n",
    "\n",
    "url = \"https://github.com/scienxlab/datasets/raw/refs/heads/main/nlog/F3_Demo_0_FS4.dat\"\n",
    "fname = pathlib.Path('F3_Demo_0_FS4.dat')\n",
    "with fname.open(mode='wt') as f:\n",
    "    f.write(requests.get(url).text)\n",
    "data = gio.read_odt(fname)['twt']\n",
    "data"
   ]
  },
  {
   "cell_type": "markdown",
   "metadata": {
    "editable": true,
    "slideshow": {
     "slide_type": ""
    },
    "tags": []
   },
   "source": [
    "One nice thing about DataArrays is that they can plot themselves:"
   ]
  },
  {
   "cell_type": "code",
   "execution_count": null,
   "metadata": {
    "editable": true,
    "slideshow": {
     "slide_type": ""
    },
    "tags": [
     "empty"
    ]
   },
   "outputs": [],
   "source": []
  },
  {
   "cell_type": "markdown",
   "metadata": {
    "editable": true,
    "slideshow": {
     "slide_type": ""
    },
    "tags": []
   },
   "source": [
    "The colorbar orientation is a problem though: I'd prefer it to be the other way up."
   ]
  },
  {
   "cell_type": "markdown",
   "metadata": {
    "editable": true,
    "slideshow": {
     "slide_type": ""
    },
    "tags": []
   },
   "source": [
    "Another nice thing is that they can give us their NumPy data; we'll get this and carry on in pure NumPy."
   ]
  },
  {
   "cell_type": "code",
   "execution_count": null,
   "metadata": {
    "editable": true,
    "slideshow": {
     "slide_type": ""
    },
    "tags": []
   },
   "outputs": [],
   "source": [
    "hz = data.to_numpy()\n",
    "\n",
    "hz"
   ]
  },
  {
   "cell_type": "markdown",
   "metadata": {
    "editable": true,
    "slideshow": {
     "slide_type": ""
    },
    "tags": [
     "exercise"
    ]
   },
   "source": [
    "<div style=\"background: #e0ffe0; border: solid 2px #d0f0d0; border-radius:3px; padding: 1em; color: darkgreen\">\n",
    "\n",
    "<h3>EXERCISE</h3>\n",
    "\n",
    "- Plot this dataset using `imshow()`\n",
    "- Choose another colormap than the default.\n",
    "- Add a colorbar to the side of the plot.\n",
    "- Add a title.\n",
    "- Stretch goal: add a second plot beneath the first using `fig, (ax0, ax1) = plt.subplots(nrows=2)` then plotting the horizon into `ax0` and a profile through the horizon as a line plot in `ax1`. Use `ax0.axhline()` to add a line to show the position of the profile.\n",
    "</div>"
   ]
  },
  {
   "cell_type": "code",
   "execution_count": null,
   "metadata": {
    "editable": true,
    "slideshow": {
     "slide_type": ""
    },
    "tags": []
   },
   "outputs": [],
   "source": [
    "### YOUR CODE HERE\n",
    "\n"
   ]
  },
  {
   "cell_type": "markdown",
   "metadata": {
    "editable": true,
    "slideshow": {
     "slide_type": ""
    },
    "tags": []
   },
   "source": [
    "There's a 'filled contour' option too, `contourf`. Notice that it is plotted with the rows in a different order."
   ]
  },
  {
   "cell_type": "code",
   "execution_count": null,
   "metadata": {
    "editable": true,
    "slideshow": {
     "slide_type": ""
    },
    "tags": [
     "empty"
    ]
   },
   "outputs": [],
   "source": []
  },
  {
   "cell_type": "markdown",
   "metadata": {
    "editable": true,
    "slideshow": {
     "slide_type": ""
    },
    "tags": []
   },
   "source": [
    "We can also use `plt.contour()`"
   ]
  },
  {
   "cell_type": "code",
   "execution_count": null,
   "metadata": {
    "editable": true,
    "slideshow": {
     "slide_type": ""
    },
    "tags": [
     "empty"
    ]
   },
   "outputs": [],
   "source": []
  },
  {
   "cell_type": "markdown",
   "metadata": {
    "editable": true,
    "slideshow": {
     "slide_type": ""
    },
    "tags": []
   },
   "source": [
    "It's often nice to combine these:"
   ]
  },
  {
   "cell_type": "code",
   "execution_count": null,
   "metadata": {
    "editable": true,
    "slideshow": {
     "slide_type": ""
    },
    "tags": [
     "empty"
    ]
   },
   "outputs": [],
   "source": []
  },
  {
   "cell_type": "markdown",
   "metadata": {},
   "source": [
    "## Images\n",
    "\n",
    "Images are a bit special: monochrome images are 2D of shape w &times; h, while colour images are 3D datasets of shape w &times; h &times; c, where c is some number of frequency 'channels', usually 3 (RGB) or 4 (RGBA).\n",
    "\n",
    "Let's look at an RGB image (JPEGs are nearly always 3 channels)."
   ]
  },
  {
   "cell_type": "code",
   "execution_count": null,
   "metadata": {},
   "outputs": [],
   "source": [
    "import urllib\n",
    "from PIL import Image\n",
    "\n",
    "url = 'https://d9-wret.s3.us-west-2.amazonaws.com/assets/palladium/production/s3fs-public/thumbnails/image/thinsectiongabbro.jpg'\n",
    "img = Image.open(urllib.request.urlopen(url))\n",
    "\n",
    "img"
   ]
  },
  {
   "cell_type": "code",
   "execution_count": null,
   "metadata": {},
   "outputs": [],
   "source": [
    "import numpy as np\n",
    "\n",
    "arr = np.asarray(img)\n",
    "\n",
    "arr.shape"
   ]
  },
  {
   "cell_type": "code",
   "execution_count": null,
   "metadata": {},
   "outputs": [],
   "source": [
    "import matplotlib.pyplot as plt\n",
    "\n",
    "plt.imshow(arr[:, :, 0], cmap='gray')"
   ]
  },
  {
   "cell_type": "code",
   "execution_count": null,
   "metadata": {},
   "outputs": [],
   "source": [
    "import seaborn as sns\n",
    "\n",
    "sns.kdeplot(arr.reshape(-1, 3)[::100], palette='turbo_r')"
   ]
  },
  {
   "cell_type": "markdown",
   "metadata": {
    "editable": true,
    "slideshow": {
     "slide_type": ""
    },
    "tags": []
   },
   "source": [
    "## Interactive plots\n",
    "\n",
    "The `ipywidgets` package gives us an easy way to make interactive plots. \n",
    "\n",
    "About the simplest thing you can do is like this:"
   ]
  },
  {
   "cell_type": "code",
   "execution_count": null,
   "metadata": {
    "editable": true,
    "slideshow": {
     "slide_type": ""
    },
    "tags": []
   },
   "outputs": [],
   "source": [
    "from ipywidgets import interact\n",
    "\n",
    "@interact(a=(0, 10, 1), b=(0, 100, 10))\n",
    "def main(a, b):\n",
    "    \"\"\"Do the things!\"\"\"\n",
    "    print(a + b)\n",
    "    return"
   ]
  },
  {
   "cell_type": "markdown",
   "metadata": {
    "editable": true,
    "slideshow": {
     "slide_type": ""
    },
    "tags": [
     "exercise"
    ]
   },
   "source": [
    "<div style=\"background: #e0ffe0; border: solid 2px #d0f0d0; border-radius:3px; padding: 1em; color: darkgreen\">\n",
    "\n",
    "<h3>EXERCISE</h3>\n",
    "\n",
    "Adapt the code above to make a slider for the profile plot of the horizon, eg choosing the profile number with the slider.\n",
    "\n",
    "You will need to write a function that handles all of the plotting, from creating the figure and axis to plotting the objects.\n",
    "</div>"
   ]
  },
  {
   "cell_type": "code",
   "execution_count": null,
   "metadata": {
    "editable": true,
    "slideshow": {
     "slide_type": ""
    },
    "tags": [
     "empty"
    ]
   },
   "outputs": [],
   "source": []
  },
  {
   "cell_type": "markdown",
   "metadata": {
    "editable": true,
    "slideshow": {
     "slide_type": ""
    },
    "tags": []
   },
   "source": [
    "## How complex do you want to get?\n",
    "\n",
    "It turns out you can do almost anything in `matplotlib`. This is a single `matplotlib` figure:"
   ]
  },
  {
   "cell_type": "code",
   "execution_count": null,
   "metadata": {
    "editable": true,
    "slideshow": {
     "slide_type": ""
    },
    "tags": []
   },
   "outputs": [],
   "source": [
    "from IPython.display import Image\n",
    "Image('https://raw.githubusercontent.com/agilescientific/geocomputing/refs/heads/develop/images/t1.png')"
   ]
  },
  {
   "cell_type": "markdown",
   "metadata": {
    "editable": true,
    "slideshow": {
     "slide_type": ""
    },
    "tags": []
   },
   "source": [
    "The key method you need to make a tiled plot like this is [`gridspec`](https://matplotlib.org/users/gridspec.html). You will also need a lot of patience."
   ]
  },
  {
   "cell_type": "markdown",
   "metadata": {
    "editable": true,
    "slideshow": {
     "slide_type": ""
    },
    "tags": []
   },
   "source": [
    "## Getting help\n",
    "\n",
    "- Gallery: https://matplotlib.org/stable/gallery/index.html\n",
    "- Cheatsheets: https://matplotlib.org/cheatsheets/\n",
    "- Book: https://github.com/rougier/scientific-visualization-book"
   ]
  },
  {
   "cell_type": "markdown",
   "metadata": {
    "editable": true,
    "slideshow": {
     "slide_type": ""
    },
    "tags": []
   },
   "source": [
    "---\n",
    "Matt Hall, Equinor 2025 / Please share and re-use"
   ]
  }
 ],
 "metadata": {
  "celltoolbar": "Tags",
  "kernelspec": {
   "display_name": "Python 3",
   "language": "python",
   "name": "Python 3"
  },
  "language_info": {
   "codemirror_mode": {
    "name": "ipython",
    "version": 3
   },
   "file_extension": ".py",
   "mimetype": "text/x-python",
   "name": "python",
   "nbconvert_exporter": "python",
   "pygments_lexer": "ipython3",
   "version": "3.13.3"
  }
 },
 "nbformat": 4,
 "nbformat_minor": 4
}
