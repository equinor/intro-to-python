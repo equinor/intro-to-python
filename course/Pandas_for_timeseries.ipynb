{
 "cells": [
  {
   "cell_type": "markdown",
   "metadata": {
    "colab_type": "text",
    "id": "SotodcnM5XV7"
   },
   "source": [
    "# Pandas for time series\n",
    "\n",
    "Pandas is very useful for handling time series. "
   ]
  },
  {
   "cell_type": "markdown",
   "metadata": {
    "colab_type": "text",
    "editable": true,
    "id": "GuHK_ikz5XV-",
    "slideshow": {
     "slide_type": ""
    },
    "tags": []
   },
   "source": [
    "## Read online dataset\n",
    "\n",
    "Let's read some oil and gas production data. I'm using: https://factpages.sodir.no/en/field/TableView/Production/Saleable/Monthly"
   ]
  },
  {
   "cell_type": "code",
   "execution_count": null,
   "metadata": {
    "colab": {},
    "colab_type": "code",
    "editable": true,
    "id": "E9jRc80g5XWB",
    "slideshow": {
     "slide_type": ""
    },
    "tags": []
   },
   "outputs": [],
   "source": [
    "url = \"https://factpages.sodir.no/public?/Factpages/external/tableview/field_production_monthly&rs:Command=Render&rc:Toolbar=false&rc:Parameters=f&IpAddress=not_used&CultureCode=en&rs:Format=CSV&Top100=false\""
   ]
  },
  {
   "cell_type": "code",
   "execution_count": null,
   "metadata": {
    "colab": {},
    "colab_type": "code",
    "id": "TSrVvUKa5XWK"
   },
   "outputs": [],
   "source": [
    "import pandas as pd\n",
    "\n",
    "df = pd.read_csv(url)\n",
    "\n",
    "df.head()"
   ]
  },
  {
   "cell_type": "markdown",
   "metadata": {
    "tags": [
     "exercise"
    ]
   },
   "source": [
    "<div style=\"background: #e0ffe0; border: solid 2px #d0f0d0; border-radius:3px; padding: 1em; color: darkgreen\">\n",
    "\n",
    "<h3>Exercise</h3>\n",
    "\n",
    "- How many rows are there in this dataframe?\n",
    "- How many fields are represented? (Look at the column called `'prfInformationCarrier'`)\n",
    "- How many years of data are there?\n",
    "- What is the total production? (Look at the column called `'prfPrdOeNetMillSm3'`)\n",
    "</div>"
   ]
  },
  {
   "cell_type": "code",
   "execution_count": null,
   "metadata": {
    "colab": {
     "base_uri": "https://localhost:8080/",
     "height": 35
    },
    "colab_type": "code",
    "editable": true,
    "executionInfo": {
     "elapsed": 838,
     "status": "ok",
     "timestamp": 1560165251376,
     "user": {
      "displayName": "Matt Hall",
      "photoUrl": "https://lh5.googleusercontent.com/-wc2cQrA5f94/AAAAAAAAAAI/AAAAAAAAhtI/-p0Ej-pd3c8/s64/photo.jpg",
      "userId": "10999355236974656427"
     },
     "user_tz": -120
    },
    "id": "Cka6DXa95XWd",
    "outputId": "8533f839-3ce1-4657-c0b5-ca128c80e2d4",
    "slideshow": {
     "slide_type": ""
    },
    "tags": [
     "empty"
    ]
   },
   "outputs": [],
   "source": []
  },
  {
   "cell_type": "code",
   "execution_count": null,
   "metadata": {
    "editable": true,
    "slideshow": {
     "slide_type": ""
    },
    "tags": [
     "empty"
    ]
   },
   "outputs": [],
   "source": []
  },
  {
   "cell_type": "code",
   "execution_count": null,
   "metadata": {
    "editable": true,
    "slideshow": {
     "slide_type": ""
    },
    "tags": [
     "empty"
    ]
   },
   "outputs": [],
   "source": []
  },
  {
   "cell_type": "code",
   "execution_count": null,
   "metadata": {
    "editable": true,
    "slideshow": {
     "slide_type": ""
    },
    "tags": [
     "empty"
    ]
   },
   "outputs": [],
   "source": []
  },
  {
   "cell_type": "markdown",
   "metadata": {
    "colab_type": "text",
    "id": "35O6iE1B5XWu"
   },
   "source": [
    "## Rename some columns"
   ]
  },
  {
   "cell_type": "markdown",
   "metadata": {
    "colab": {},
    "colab_type": "code",
    "editable": true,
    "id": "J5KVbZnn5XW6",
    "slideshow": {
     "slide_type": ""
    },
    "tags": [
     "exercise"
    ]
   },
   "source": [
    "<div style=\"background: #e0ffe0; border: solid 2px #d0f0d0; border-radius:3px; padding: 1em; color: darkgreen\">\n",
    "\n",
    "<h3>Exercise</h3>\n",
    "\n",
    "Rename some of the columns of the dataframe as follows:\n",
    "\n",
    "    'prfYear': 'year'\n",
    "    'prfMonth': 'month'\n",
    "    'prfInformationCarrier': 'field'\n",
    "    'prfPrdOilNetMillSm3': 'oil'\n",
    "    'prfPrdOeNetMillSm3': 'OE'\n",
    "    'prfPrdProducedWaterInFieldMillSm3': 'water'\n",
    "</div>"
   ]
  },
  {
   "cell_type": "code",
   "execution_count": null,
   "metadata": {
    "colab": {},
    "colab_type": "code",
    "editable": true,
    "id": "J5KVbZnn5XW6",
    "slideshow": {
     "slide_type": ""
    },
    "tags": [
     "empty"
    ]
   },
   "outputs": [],
   "source": []
  },
  {
   "cell_type": "markdown",
   "metadata": {
    "colab_type": "text",
    "id": "35O6iE1B5XWu"
   },
   "source": [
    "## Add a datetime"
   ]
  },
  {
   "cell_type": "markdown",
   "metadata": {
    "colab_type": "text",
    "id": "f4TYPRo25XWw"
   },
   "source": [
    "We'd like to give this dataframe a **datetime** index with `pandas` datetimes. To do this easily, we need:\n",
    "\n",
    "- EITHER columns named like `'year'`, `'month'`, `'day'`\n",
    "- OR a column with a datetime string like `2019-06-30`.\n",
    "\n",
    "In this dataframe, we have the former, so let's work with that."
   ]
  },
  {
   "cell_type": "markdown",
   "metadata": {
    "tags": [
     "exercise"
    ]
   },
   "source": [
    "<div style=\"background: #e0ffe0; border: solid 2px #d0f0d0; border-radius:3px; padding: 1em; color: darkgreen\">\n",
    "\n",
    "<h3>Exercise</h3>\n",
    "\n",
    "- Make a column for the **day**, using a constant like 1.\n",
    "- Make a datetime column called `'ds'` (for 'date stamp') using `pd.to_datetime()`, passing in a dataframe consisting of the three columns for year, month and the day you just made.\n",
    "- Finally, to turn the new column into an index, give its name (`'ds'`) to `df.set_index()`.\n",
    "</div>"
   ]
  },
  {
   "cell_type": "code",
   "execution_count": null,
   "metadata": {
    "colab": {},
    "colab_type": "code",
    "editable": true,
    "id": "upI71Sll5XXE",
    "slideshow": {
     "slide_type": ""
    },
    "tags": [
     "empty"
    ]
   },
   "outputs": [],
   "source": []
  },
  {
   "cell_type": "code",
   "execution_count": null,
   "metadata": {
    "editable": true,
    "slideshow": {
     "slide_type": ""
    },
    "tags": [
     "empty"
    ]
   },
   "outputs": [],
   "source": []
  },
  {
   "cell_type": "code",
   "execution_count": null,
   "metadata": {
    "colab": {},
    "colab_type": "code",
    "editable": true,
    "id": "FvsUBkAH5XXM",
    "slideshow": {
     "slide_type": ""
    },
    "tags": [
     "empty"
    ]
   },
   "outputs": [],
   "source": []
  },
  {
   "cell_type": "markdown",
   "metadata": {},
   "source": [
    "You should end up with a new dataframe with the `'ds'` column as an index."
   ]
  },
  {
   "cell_type": "code",
   "execution_count": null,
   "metadata": {
    "colab": {
     "base_uri": "https://localhost:8080/",
     "height": 339
    },
    "colab_type": "code",
    "executionInfo": {
     "elapsed": 787,
     "status": "ok",
     "timestamp": 1560165253191,
     "user": {
      "displayName": "Matt Hall",
      "photoUrl": "https://lh5.googleusercontent.com/-wc2cQrA5f94/AAAAAAAAAAI/AAAAAAAAhtI/-p0Ej-pd3c8/s64/photo.jpg",
      "userId": "10999355236974656427"
     },
     "user_tz": -120
    },
    "id": "kO2npE3a5XXU",
    "outputId": "08178609-0c2f-4c86-eb6a-22299ea182f9"
   },
   "outputs": [],
   "source": [
    "df.head()"
   ]
  },
  {
   "cell_type": "markdown",
   "metadata": {},
   "source": [
    "## Simplify the dataframe\n",
    "\n",
    "Before we carry on, let's simplify the dataframe a bit, reducing it to a few columns: **field**, **water**, **other**, and **oil** (the order is a slightly cheaty way to get the colours I want on the charts, without having to fiddle with them)."
   ]
  },
  {
   "cell_type": "code",
   "execution_count": null,
   "metadata": {
    "colab": {},
    "colab_type": "code",
    "id": "3ZFVUQiS5XXf"
   },
   "outputs": [],
   "source": [
    "df['other'] = df.OE - df.oil\n",
    "df = df.drop('OE', axis=1)\n",
    "df = df[['field', 'water', 'other', 'oil']]"
   ]
  },
  {
   "cell_type": "code",
   "execution_count": null,
   "metadata": {
    "colab": {
     "base_uri": "https://localhost:8080/",
     "height": 233
    },
    "colab_type": "code",
    "executionInfo": {
     "elapsed": 432,
     "status": "ok",
     "timestamp": 1560165253838,
     "user": {
      "displayName": "Matt Hall",
      "photoUrl": "https://lh5.googleusercontent.com/-wc2cQrA5f94/AAAAAAAAAAI/AAAAAAAAhtI/-p0Ej-pd3c8/s64/photo.jpg",
      "userId": "10999355236974656427"
     },
     "user_tz": -120
    },
    "id": "I8M3nBuo5XXl",
    "outputId": "0e6147dd-99b4-40ba-fdcf-0b03ee330175"
   },
   "outputs": [],
   "source": [
    "df.head()"
   ]
  },
  {
   "cell_type": "markdown",
   "metadata": {},
   "source": [
    "This is very useful, and now perhaps it does make more sense to try slicing directly with the row index. Even the \"includes end\" slicing rule seems to help a bit:"
   ]
  },
  {
   "cell_type": "code",
   "execution_count": null,
   "metadata": {},
   "outputs": [],
   "source": [
    "df[:'1971']"
   ]
  },
  {
   "cell_type": "markdown",
   "metadata": {
    "colab_type": "text",
    "id": "1pCS6NRw5XXu"
   },
   "source": [
    "## Time series with `pandas`\n",
    "\n",
    "`pandas` knows all about time series. So we can easily make a time series plot:"
   ]
  },
  {
   "cell_type": "code",
   "execution_count": null,
   "metadata": {},
   "outputs": [],
   "source": [
    "df.loc[df['field']=='TROLL', 'oil'].plot()"
   ]
  },
  {
   "cell_type": "markdown",
   "metadata": {},
   "source": [
    "Let's make a dataframe of only the TROLL field."
   ]
  },
  {
   "cell_type": "code",
   "execution_count": null,
   "metadata": {},
   "outputs": [],
   "source": [
    "troll = df[df.field=='TROLL']"
   ]
  },
  {
   "cell_type": "markdown",
   "metadata": {},
   "source": [
    "We can easily stretch it out, or add other lines:"
   ]
  },
  {
   "cell_type": "code",
   "execution_count": null,
   "metadata": {
    "colab": {
     "base_uri": "https://localhost:8080/",
     "height": 246
    },
    "colab_type": "code",
    "executionInfo": {
     "elapsed": 1210,
     "status": "ok",
     "timestamp": 1560165256686,
     "user": {
      "displayName": "Matt Hall",
      "photoUrl": "https://lh5.googleusercontent.com/-wc2cQrA5f94/AAAAAAAAAAI/AAAAAAAAhtI/-p0Ej-pd3c8/s64/photo.jpg",
      "userId": "10999355236974656427"
     },
     "user_tz": -120
    },
    "id": "0mwROnOf5XXw",
    "outputId": "43430308-037f-4661-a9ba-e7d3b60d0c65"
   },
   "outputs": [],
   "source": [
    "troll.plot(figsize=(15, 3))"
   ]
  },
  {
   "cell_type": "markdown",
   "metadata": {
    "editable": true,
    "slideshow": {
     "slide_type": ""
    },
    "tags": [
     "exercise"
    ]
   },
   "source": [
    "<div style=\"background: #e0ffe0; border: solid 2px #d0f0d0; border-radius:3px; padding: 1em; color: darkgreen\">\n",
    "\n",
    "<h3>EXERCISE</h3>\n",
    "\n",
    "- Plot the production for Troll in the period 2005 to 2010 inclusive.\n",
    "- Narrow the time range to June 2005 to June 2008.\n",
    "</div>"
   ]
  },
  {
   "cell_type": "code",
   "execution_count": null,
   "metadata": {
    "editable": true,
    "slideshow": {
     "slide_type": ""
    },
    "tags": [
     "empty"
    ]
   },
   "outputs": [],
   "source": []
  },
  {
   "cell_type": "code",
   "execution_count": null,
   "metadata": {
    "editable": true,
    "slideshow": {
     "slide_type": ""
    },
    "tags": [
     "empty"
    ]
   },
   "outputs": [],
   "source": []
  },
  {
   "cell_type": "markdown",
   "metadata": {
    "colab_type": "text",
    "editable": true,
    "id": "3evyE8q45XYH",
    "slideshow": {
     "slide_type": ""
    },
    "tags": []
   },
   "source": [
    "## Resampling\n",
    "\n",
    "Let's get the summed annual production for the Troll field:"
   ]
  },
  {
   "cell_type": "code",
   "execution_count": null,
   "metadata": {
    "colab": {
     "base_uri": "https://localhost:8080/",
     "height": 417
    },
    "colab_type": "code",
    "editable": true,
    "executionInfo": {
     "elapsed": 645,
     "status": "ok",
     "timestamp": 1560165257216,
     "user": {
      "displayName": "Matt Hall",
      "photoUrl": "https://lh5.googleusercontent.com/-wc2cQrA5f94/AAAAAAAAAAI/AAAAAAAAhtI/-p0Ej-pd3c8/s64/photo.jpg",
      "userId": "10999355236974656427"
     },
     "user_tz": -120
    },
    "id": "8PnzW_445XYJ",
    "outputId": "ac8db087-9fd9-4ff1-e34d-c00eb6a63783",
    "slideshow": {
     "slide_type": ""
    },
    "tags": []
   },
   "outputs": [],
   "source": [
    "troll.drop(columns=['field']).loc['2010':'2018'].resample('YE').sum()\n",
    "\n",
    "# Try omitting the `drop` if you're curious why it's there."
   ]
  },
  {
   "cell_type": "markdown",
   "metadata": {
    "colab_type": "text",
    "id": "gHXO-g9M5XYY"
   },
   "source": [
    "Throw `.plot()` on the end:"
   ]
  },
  {
   "cell_type": "code",
   "execution_count": null,
   "metadata": {
    "colab": {
     "base_uri": "https://localhost:8080/",
     "height": 301
    },
    "colab_type": "code",
    "executionInfo": {
     "elapsed": 992,
     "status": "ok",
     "timestamp": 1560165258099,
     "user": {
      "displayName": "Matt Hall",
      "photoUrl": "https://lh5.googleusercontent.com/-wc2cQrA5f94/AAAAAAAAAAI/AAAAAAAAhtI/-p0Ej-pd3c8/s64/photo.jpg",
      "userId": "10999355236974656427"
     },
     "user_tz": -120
    },
    "id": "msYhvyrj5XYZ",
    "outputId": "b5197ff1-8c5f-414f-9d64-6b861faba9d6"
   },
   "outputs": [],
   "source": [
    "troll.loc['1995':'2018'].resample('YE').sum().plot()"
   ]
  },
  {
   "cell_type": "markdown",
   "metadata": {
    "colab_type": "text",
    "id": "s1sFKATv5XYk"
   },
   "source": [
    "Or we can get totals for *ALL* fields in the database:"
   ]
  },
  {
   "cell_type": "code",
   "execution_count": null,
   "metadata": {
    "colab": {
     "base_uri": "https://localhost:8080/",
     "height": 301
    },
    "colab_type": "code",
    "editable": true,
    "executionInfo": {
     "elapsed": 1393,
     "status": "ok",
     "timestamp": 1560165258927,
     "user": {
      "displayName": "Matt Hall",
      "photoUrl": "https://lh5.googleusercontent.com/-wc2cQrA5f94/AAAAAAAAAAI/AAAAAAAAhtI/-p0Ej-pd3c8/s64/photo.jpg",
      "userId": "10999355236974656427"
     },
     "user_tz": -120
    },
    "id": "hAaWcVpN5XYm",
    "outputId": "ee18d70e-6ad6-4768-b7bb-9e17d3e9809b",
    "slideshow": {
     "slide_type": ""
    },
    "tags": []
   },
   "outputs": [],
   "source": [
    "df.loc['2000':'2018'].resample('YE').sum().plot()"
   ]
  },
  {
   "cell_type": "markdown",
   "metadata": {
    "colab_type": "text",
    "editable": true,
    "id": "iCIJPqC25XYu",
    "slideshow": {
     "slide_type": ""
    },
    "tags": [
     "exercise"
    ]
   },
   "source": [
    "<div style=\"background: #e0ffe0; border: solid 2px #d0f0d0; border-radius:3px; padding: 1em; color: darkgreen\">\n",
    "\n",
    "<h3>EXERCISE</h3>\n",
    "\n",
    "Let's look at the contribution TROLL made to NCS production since 1993.\n",
    "\n",
    "- Use `df.loc` with `...plot()` to plot the gross annual production from 1990 to 2024.\n",
    "- Add another line plotting the gross production _but without the Troll field_ over the same period.\n",
    "</div>"
   ]
  },
  {
   "cell_type": "code",
   "execution_count": null,
   "metadata": {
    "colab": {
     "base_uri": "https://localhost:8080/",
     "height": 301
    },
    "colab_type": "code",
    "editable": true,
    "executionInfo": {
     "elapsed": 1391,
     "status": "ok",
     "timestamp": 1560165259281,
     "user": {
      "displayName": "Matt Hall",
      "photoUrl": "https://lh5.googleusercontent.com/-wc2cQrA5f94/AAAAAAAAAAI/AAAAAAAAhtI/-p0Ej-pd3c8/s64/photo.jpg",
      "userId": "10999355236974656427"
     },
     "user_tz": -120
    },
    "id": "X8mtzF1b5XYv",
    "outputId": "6da2cf27-d087-437c-a55a-712bddb011fe",
    "slideshow": {
     "slide_type": ""
    },
    "tags": [
     "empty"
    ]
   },
   "outputs": [],
   "source": []
  },
  {
   "cell_type": "markdown",
   "metadata": {
    "editable": true,
    "slideshow": {
     "slide_type": ""
    },
    "tags": []
   },
   "source": [
    "----\n",
    "\n",
    "&copy; 2025 Matt Hall / Equinor, licensed CC-BY"
   ]
  }
 ],
 "metadata": {
  "accelerator": "GPU",
  "celltoolbar": "Tags",
  "colab": {
   "name": "Pandas_with_NPD_data.ipynb",
   "provenance": [
    {
     "file_id": "https://github.com/kwinkunks/notebooks/blob/master/Pandas_with_NPD_data.ipynb",
     "timestamp": 1560162219087
    }
   ],
   "version": "0.3.2"
  },
  "kernelspec": {
   "display_name": "Python 3",
   "language": "python",
   "name": "Python 3"
  },
  "language_info": {
   "codemirror_mode": {
    "name": "ipython",
    "version": 3
   },
   "file_extension": ".py",
   "mimetype": "text/x-python",
   "name": "python",
   "nbconvert_exporter": "python",
   "pygments_lexer": "ipython3",
   "version": "3.13.3"
  }
 },
 "nbformat": 4,
 "nbformat_minor": 4
}
