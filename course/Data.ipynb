{
 "cells": [
  {
   "cell_type": "markdown",
   "id": "0",
   "metadata": {},
   "source": [
    "# Python fundamentals\n",
    "\n",
    "In this notebook:\n",
    "\n",
    "- Collections.\n",
    "- Iteration.\n",
    "- A very quick introduction to NumPy."
   ]
  },
  {
   "cell_type": "markdown",
   "id": "1",
   "metadata": {
    "editable": true,
    "slideshow": {
     "slide_type": ""
    },
    "tags": []
   },
   "source": [
    "## Collections of things\n",
    "\n",
    "There are several data structures for collections of things (i.e. of other data structures). Let's explore lists!"
   ]
  },
  {
   "cell_type": "code",
   "execution_count": null,
   "id": "2",
   "metadata": {
    "editable": true,
    "slideshow": {
     "slide_type": ""
    },
    "tags": []
   },
   "outputs": [],
   "source": [
    "gr = [32, 39, 46, 44, 49, 34, 31, 32, 33]\n",
    "gr"
   ]
  },
  {
   "cell_type": "code",
   "execution_count": null,
   "id": "3",
   "metadata": {},
   "outputs": [],
   "source": []
  },
  {
   "cell_type": "code",
   "execution_count": null,
   "id": "4",
   "metadata": {},
   "outputs": [],
   "source": []
  },
  {
   "cell_type": "markdown",
   "id": "5",
   "metadata": {
    "editable": true,
    "slideshow": {
     "slide_type": ""
    },
    "tags": [
     "exercise"
    ]
   },
   "source": [
    "<div style=\"background: #e0ffe0; border: solid 2px #d0f0d0; border-radius:3px; padding: 1em; color: darkgreen\">\n",
    "\n",
    "<h3>Exercise</h3>\n",
    "\n",
    "- Split this string into a list called `corps`: `'Equinor, AkerBP, Shell, BP, Petoro'`. <a title=\"Use the s.split() method\">Hover for hint.</a>\n",
    "- Change the second element to `'Aker BP'` (ie with a space).\n",
    "- Use `sorted()` to sort the list. Can you sort it backwards? Stretch goal: can you use the `key` argument to sort by length?\n",
    "- Copy (careful!) the list to a new name, `orgs`.\n",
    "- Add the following organizations to the new list: `'NOD'`, `'Havtil'`. Make sure they're not in the old list.\n",
    "\n",
    "</div>"
   ]
  },
  {
   "cell_type": "code",
   "execution_count": null,
   "id": "6",
   "metadata": {
    "editable": true,
    "slideshow": {
     "slide_type": ""
    },
    "tags": []
   },
   "outputs": [],
   "source": [
    "s = 'Equinor, AkerBP, Shell, BP, Petoro'\n",
    "\n",
    "# YOUR CODE HERE\n",
    "# Hint: the string has methods, type s.<tab> to see them.\n",
    "\n"
   ]
  },
  {
   "cell_type": "markdown",
   "id": "7",
   "metadata": {
    "editable": true,
    "slideshow": {
     "slide_type": ""
    },
    "tags": []
   },
   "source": [
    "### Strings are collections too!\n",
    "\n",
    "Remember strings, like `\"Hello World!\"`? Turns out they are collections of characters..."
   ]
  },
  {
   "cell_type": "code",
   "execution_count": null,
   "id": "8",
   "metadata": {},
   "outputs": [],
   "source": []
  },
  {
   "cell_type": "code",
   "execution_count": null,
   "id": "9",
   "metadata": {},
   "outputs": [],
   "source": []
  },
  {
   "cell_type": "markdown",
   "id": "10",
   "metadata": {
    "editable": true,
    "slideshow": {
     "slide_type": ""
    },
    "tags": []
   },
   "source": [
    "### A note about names, memory, and mutability"
   ]
  },
  {
   "cell_type": "code",
   "execution_count": null,
   "id": "11",
   "metadata": {},
   "outputs": [],
   "source": []
  },
  {
   "cell_type": "code",
   "execution_count": null,
   "id": "12",
   "metadata": {
    "editable": true,
    "slideshow": {
     "slide_type": ""
    },
    "tags": []
   },
   "outputs": [],
   "source": []
  },
  {
   "cell_type": "markdown",
   "id": "13",
   "metadata": {
    "editable": true,
    "slideshow": {
     "slide_type": ""
    },
    "tags": []
   },
   "source": [
    "We have seen:\n",
    "\n",
    "- Creating a list\n",
    "- Lists can be heterogeneous and nested\n",
    "- Lists can be empty\n",
    "- Lists have length and order (indexing, slicing)\n",
    "- Lists are mutable, so I can change an element, append, and pop\n",
    "- Names are pointers, so sometimes I need copies of things"
   ]
  },
  {
   "cell_type": "markdown",
   "id": "14",
   "metadata": {
    "editable": true,
    "slideshow": {
     "slide_type": ""
    },
    "tags": []
   },
   "source": [
    "---\n",
    "\n",
    "## Iteration: `for` (each) ... `in` ...\n",
    "\n",
    "We often have some collection — lines from a file, or numbers, or lists of numbers — and want to do some operation on each thing in turn. For this, we need **iteration**. In Python, this is effected by the **`for` loop** (strictly, the **`for`–`else` loop** but we won't worry about that in this class, [read more](https://docs.python.org/3/reference/compound_stmts.html#for)).\n",
    "\n",
    "- Basic pattern on a list\n",
    "- List comprehension — with strings\n",
    "- `continue` and `break`"
   ]
  },
  {
   "cell_type": "code",
   "execution_count": null,
   "id": "15",
   "metadata": {
    "editable": true,
    "slideshow": {
     "slide_type": ""
    },
    "tags": []
   },
   "outputs": [],
   "source": [
    "# Recall we have our list of organizations from before:\n",
    "orgs"
   ]
  },
  {
   "cell_type": "code",
   "execution_count": null,
   "id": "16",
   "metadata": {
    "editable": true,
    "slideshow": {
     "slide_type": ""
    },
    "tags": []
   },
   "outputs": [],
   "source": []
  },
  {
   "cell_type": "code",
   "execution_count": null,
   "id": "17",
   "metadata": {
    "editable": true,
    "slideshow": {
     "slide_type": ""
    },
    "tags": []
   },
   "outputs": [],
   "source": []
  },
  {
   "cell_type": "code",
   "execution_count": null,
   "id": "18",
   "metadata": {
    "editable": true,
    "slideshow": {
     "slide_type": ""
    },
    "tags": []
   },
   "outputs": [],
   "source": []
  },
  {
   "cell_type": "markdown",
   "id": "19",
   "metadata": {
    "editable": true,
    "slideshow": {
     "slide_type": ""
    },
    "tags": [
     "exercise"
    ]
   },
   "source": [
    "<div style=\"background: #e0ffe0; border: solid 2px #d0f0d0; border-radius:3px; padding: 1em; color: darkgreen\">\n",
    "\n",
    "<h3>Exercise</h3>\n",
    "\n",
    "Rearrange the following lines to loop over a list of files and gather the second part of the file names — the months — into a new list, then print the new list.\n",
    "\n",
    "When the code runs, it should produce:\n",
    "\n",
    "    ['Jan', 'Mar', 'Jun', 'Jun']\n",
    "</div>"
   ]
  },
  {
   "cell_type": "code",
   "execution_count": null,
   "id": "20",
   "metadata": {
    "editable": true,
    "slideshow": {
     "slide_type": ""
    },
    "tags": []
   },
   "outputs": [],
   "source": [
    "print(months)\n",
    "files = ['MH_Jan_18.png', 'MH_Mar_18.png', 'MH_Jun_18.png', 'MH_Jun_17.png']\n",
    "months.append(month)\n",
    "month = file.split('_')[1]\n",
    "for file in files:\n",
    "months = []"
   ]
  },
  {
   "cell_type": "code",
   "execution_count": null,
   "id": "21",
   "metadata": {
    "editable": true,
    "slideshow": {
     "slide_type": ""
    },
    "tags": []
   },
   "outputs": [],
   "source": []
  },
  {
   "cell_type": "markdown",
   "id": "22",
   "metadata": {
    "editable": true,
    "slideshow": {
     "slide_type": ""
    },
    "tags": []
   },
   "source": [
    "### Making decisions in the loop\n",
    "\n",
    "We have some porosities:"
   ]
  },
  {
   "cell_type": "code",
   "execution_count": null,
   "id": "23",
   "metadata": {
    "editable": true,
    "slideshow": {
     "slide_type": ""
    },
    "tags": []
   },
   "outputs": [],
   "source": [
    "porosities = [0.08, 0.23, 0.11, 0.00, 0.10,  -0.03, -999.25, 17.5, 0.30, 1.50]"
   ]
  },
  {
   "cell_type": "code",
   "execution_count": null,
   "id": "24",
   "metadata": {
    "editable": true,
    "slideshow": {
     "slide_type": ""
    },
    "tags": []
   },
   "outputs": [],
   "source": []
  },
  {
   "cell_type": "markdown",
   "id": "25",
   "metadata": {
    "editable": true,
    "slideshow": {
     "slide_type": ""
    },
    "tags": [
     "exercise"
    ]
   },
   "source": [
    "<div style=\"background: #e0ffe0; border: solid 2px #d0f0d0; border-radius:3px; padding: 1em; color: darkgreen\">\n",
    "\n",
    "<h3>Exercise</h3>\n",
    "\n",
    "Turn this loop into a function.\n",
    "</div>"
   ]
  },
  {
   "cell_type": "code",
   "execution_count": null,
   "id": "26",
   "metadata": {
    "editable": true,
    "slideshow": {
     "slide_type": ""
    },
    "tags": []
   },
   "outputs": [],
   "source": [
    "def clean_porosities(porosities):\n",
    "\n",
    "    # YOUR CODE HERE\n",
    "    # Don't forget the docstring!\n",
    "\n",
    "    return cleaned"
   ]
  },
  {
   "cell_type": "markdown",
   "id": "27",
   "metadata": {
    "editable": true,
    "slideshow": {
     "slide_type": ""
    },
    "tags": [
     "exercise"
    ]
   },
   "source": [
    "<div style=\"background: #e0ffe0; border: solid 2px #d0f0d0; border-radius:3px; padding: 1em; color: darkgreen\">\n",
    "\n",
    "<h3>Exercise</h3>\n",
    "\n",
    "Print `'sand'` or `'shale'` for the values in `regular` using a cutoff of 10% porosity.\n",
    "</div>"
   ]
  },
  {
   "cell_type": "code",
   "execution_count": null,
   "id": "28",
   "metadata": {
    "editable": true,
    "slideshow": {
     "slide_type": ""
    },
    "tags": []
   },
   "outputs": [],
   "source": [
    "# YOUR CODE HERE\n",
    "\n"
   ]
  },
  {
   "cell_type": "markdown",
   "id": "29",
   "metadata": {
    "editable": true,
    "slideshow": {
     "slide_type": ""
    },
    "tags": []
   },
   "source": [
    "### Turing complete\n",
    "\n",
    "With data structures, code expressions, conditionals and loops, your knowledge of Python is now [\"Turing complete\"](https://en.wikipedia.org/wiki/Turing_completeness) and you can, in principle, perform _any_ computing task 💥 Use your power wisely :)"
   ]
  },
  {
   "cell_type": "markdown",
   "id": "30",
   "metadata": {
    "editable": true,
    "slideshow": {
     "slide_type": ""
    },
    "tags": []
   },
   "source": [
    "---\n",
    "\n",
    "## A quick look at NumPy\n",
    "\n",
    "It turns out that we want to do maths on collections of numbers so often that boffins have made a special library for it called NumPy. This library gives you (a) a special data structure called \"arrays\" for n-dimensional collections of numbers and (b) a lot of functions for doing mathy things to those arrays, from statistics to Fourier transforms. All this is implemented in very efficient Fortran somewhere deep inside your computer.\n",
    "\n",
    "TL;DR — NumPy is awesome for scientists and engineers!"
   ]
  },
  {
   "cell_type": "code",
   "execution_count": null,
   "id": "31",
   "metadata": {
    "editable": true,
    "slideshow": {
     "slide_type": ""
    },
    "tags": []
   },
   "outputs": [],
   "source": [
    "import numpy as np\n",
    "\n",
    "arr = np.array(regular)\n",
    "arr"
   ]
  },
  {
   "cell_type": "code",
   "execution_count": null,
   "id": "32",
   "metadata": {
    "editable": true,
    "slideshow": {
     "slide_type": ""
    },
    "tags": []
   },
   "outputs": [],
   "source": []
  },
  {
   "cell_type": "code",
   "execution_count": null,
   "id": "33",
   "metadata": {
    "editable": true,
    "slideshow": {
     "slide_type": ""
    },
    "tags": []
   },
   "outputs": [],
   "source": []
  },
  {
   "cell_type": "code",
   "execution_count": null,
   "id": "34",
   "metadata": {
    "editable": true,
    "slideshow": {
     "slide_type": ""
    },
    "tags": []
   },
   "outputs": [],
   "source": []
  },
  {
   "cell_type": "code",
   "execution_count": null,
   "id": "35",
   "metadata": {
    "editable": true,
    "slideshow": {
     "slide_type": ""
    },
    "tags": []
   },
   "outputs": [],
   "source": [
    "import requests\n",
    "from pathlib import Path\n",
    "import io\n",
    "\n",
    "def download_array(url):\n",
    "    \"\"\"\n",
    "    Download, save, and np.loadtxt a text file.\n",
    "    \"\"\"\n",
    "    r = requests.get(url)\n",
    "    fname = Path('temp.txt')\n",
    "    fname.write_text(r.text)\n",
    "    arr = np.loadtxt(fname)\n",
    "    fname.unlink()\n",
    "    return arr\n",
    "\n",
    "before = download_array(\"https://raw.githubusercontent.com/scienxlab/datasets/refs/heads/main/usgs/st-helens-before.txt\")\n",
    "before"
   ]
  },
  {
   "cell_type": "code",
   "execution_count": null,
   "id": "36",
   "metadata": {
    "editable": true,
    "slideshow": {
     "slide_type": ""
    },
    "tags": []
   },
   "outputs": [],
   "source": []
  },
  {
   "cell_type": "code",
   "execution_count": null,
   "id": "37",
   "metadata": {
    "editable": true,
    "slideshow": {
     "slide_type": ""
    },
    "tags": []
   },
   "outputs": [],
   "source": []
  },
  {
   "cell_type": "code",
   "execution_count": null,
   "id": "38",
   "metadata": {
    "editable": true,
    "slideshow": {
     "slide_type": ""
    },
    "tags": []
   },
   "outputs": [],
   "source": [
    "after = download_array(\"https://raw.githubusercontent.com/scienxlab/datasets/refs/heads/main/usgs/st-helens-after.txt\")\n",
    "after"
   ]
  },
  {
   "cell_type": "code",
   "execution_count": null,
   "id": "39",
   "metadata": {
    "editable": true,
    "slideshow": {
     "slide_type": ""
    },
    "tags": []
   },
   "outputs": [],
   "source": []
  },
  {
   "cell_type": "code",
   "execution_count": null,
   "id": "40",
   "metadata": {
    "editable": true,
    "slideshow": {
     "slide_type": ""
    },
    "tags": []
   },
   "outputs": [],
   "source": []
  },
  {
   "cell_type": "markdown",
   "id": "41",
   "metadata": {
    "editable": true,
    "slideshow": {
     "slide_type": ""
    },
    "tags": []
   },
   "source": [
    "---\n",
    "\n",
    "## Other collections\n",
    "\n",
    "Besides strings, lists and arrays, there are several other very common collection types:\n",
    "\n",
    "- `tuple` — similar to a list (eg ordered, integer indexed), but immutable (a bit safer but can be a bit less convenient).\n",
    "- `dict` — a mapping from a **key** to a **value**, we'll take a quick look. Ordered, mutable... but keys must be immutable..\n",
    "- `set` — a mutable, unordered collection of **unique** items. (The `frozenset` is immutable.)\n",
    "\n",
    "We can make the following summary table for Python's collection structures:\n",
    "\n",
    "| Type           | Element Types         | Heterogeneous? | Ordered?  | Mutable?  | Indexing style      | Other features |\n",
    "|---------------|----------------------|--------------|----------|---------|------------------|----------------|\n",
    "| `str`        | Characters (text)     | No           | Yes      | No      | Integer indices | Supports slicing, iteration, and regex operations |\n",
    "| `list`       | Any                   | Yes          | Yes      | Yes     | Integer indices | Dynamic resizing, allows nesting |\n",
    "| `tuple`      | Any                   | Yes          | Yes      | No      | Integer indices | Hashable if elements are hashable |\n",
    "| `dict`       | Keys → Any, Values → Any | Yes (values) | Yes (Py 3.7+) | Yes (keys immutable) | Key-based       | Fast lookups, keys must be unique and hashable |\n",
    "| `set`        | Any (hashable)        | Yes          | No       | Yes     | No direct indexing | Unique elements, supports set operations |\n",
    "| `frozenset`  | Any (hashable)        | Yes          | No       | No      | No direct indexing | Hashable, unique elements, supports set operations |\n",
    "| `np.array()` | Numeric (default)     | No (by default) | Yes  | Yes (in-place ops) | Integer indices | Vectorized operations, fixed dtype, efficient computation |\n",
    "| `pd.Series`  | Any (supports dtype)  | Yes          | Yes      | Yes     | Label-based (default) & integer | Indexed data structure, missing values handling, supports operations like `apply()` |\n",
    "\n",
    "Note that there are many other collections, such as `collections.deque`, `collections.namedtuple`, `collections.defaultdict`, `collections.OrderedDict`, `xarray.DataArray` and `xarray.Dataset`.\n"
   ]
  },
  {
   "cell_type": "markdown",
   "id": "42",
   "metadata": {
    "editable": true,
    "slideshow": {
     "slide_type": ""
    },
    "tags": []
   },
   "source": [
    "## Dictionaries\n",
    "\n",
    "Dictionaries, or dicts, are everywhere in Python. However, they can take some getting used to.\n",
    "\n",
    "If your dataset does not necessarily have a natural order, or if it could be more convenient to refer to a record by some name rather than merely its position, then you might want to use a dictionary.\n",
    "\n",
    "For example, maybe I have measured the heights of my children over time:"
   ]
  },
  {
   "cell_type": "code",
   "execution_count": null,
   "id": "43",
   "metadata": {},
   "outputs": [],
   "source": [
    "heights = {\n",
    "    'ann': [120, 124, 128],\n",
    "    'bob': [132, 142, 149],\n",
    "    'carol': [156, 164, 168],\n",
    "}"
   ]
  },
  {
   "cell_type": "markdown",
   "id": "44",
   "metadata": {},
   "source": [
    "The 'items' of the dictionary are \"key, value pairs\".\n",
    "\n",
    "Even though dictionaries are ordered (since Python 3.6), I cannot get at the items by _position_:"
   ]
  },
  {
   "cell_type": "code",
   "execution_count": null,
   "id": "45",
   "metadata": {},
   "outputs": [],
   "source": [
    "heights[2]  # There is no key 2."
   ]
  },
  {
   "cell_type": "markdown",
   "id": "46",
   "metadata": {},
   "source": [
    "Instead, I have to use the keys, which in this case are strings:"
   ]
  },
  {
   "cell_type": "code",
   "execution_count": null,
   "id": "47",
   "metadata": {},
   "outputs": [],
   "source": [
    "heights.keys()"
   ]
  },
  {
   "cell_type": "code",
   "execution_count": null,
   "id": "48",
   "metadata": {},
   "outputs": [],
   "source": [
    "heights['carol']"
   ]
  },
  {
   "cell_type": "markdown",
   "id": "49",
   "metadata": {},
   "source": [
    "I do sometimes want to iterate over the key, value pairs and there is a nice way to do this:"
   ]
  },
  {
   "cell_type": "code",
   "execution_count": null,
   "id": "50",
   "metadata": {},
   "outputs": [],
   "source": [
    "for key, value in heights.items():\n",
    "    print(f\"Child {key.title()} has heights: {', '.join(str(v) for v in value)}\")"
   ]
  },
  {
   "cell_type": "markdown",
   "id": "51",
   "metadata": {},
   "source": [
    "### Another `dict` example\n",
    "\n",
    "For another example, suppose we have some measurements from different depths in a well:"
   ]
  },
  {
   "cell_type": "code",
   "execution_count": null,
   "id": "52",
   "metadata": {},
   "outputs": [],
   "source": [
    "print([100 + 0.1524 * n for n in range(10)])"
   ]
  },
  {
   "cell_type": "code",
   "execution_count": null,
   "id": "53",
   "metadata": {},
   "outputs": [],
   "source": [
    "depth = [100.0, 100.1524, 100.3048, 100.4572, 100.6096, 100.762, 100.9144, 101.0668, 101.2192, 101.3716]\n",
    "gr = [98, 102, 97, 76, 26, 32, 37, 38, 34, 54]\n",
    "\n",
    "plt.plot(gr, depth)"
   ]
  },
  {
   "cell_type": "markdown",
   "id": "54",
   "metadata": {},
   "source": [
    "Getting the reading at 100.762 m is not very convenient:"
   ]
  },
  {
   "cell_type": "code",
   "execution_count": null,
   "id": "55",
   "metadata": {},
   "outputs": [],
   "source": [
    "idx = depth.index(100.762)\n",
    "gr[idx]"
   ]
  },
  {
   "cell_type": "markdown",
   "id": "56",
   "metadata": {},
   "source": [
    "If I store the data in a `dict`, I can look up the value directly:"
   ]
  },
  {
   "cell_type": "code",
   "execution_count": null,
   "id": "57",
   "metadata": {},
   "outputs": [],
   "source": [
    "gr_dict = {k:v for k, v in zip(depth, gr)}\n",
    "gr_dict"
   ]
  },
  {
   "cell_type": "code",
   "execution_count": null,
   "id": "58",
   "metadata": {},
   "outputs": [],
   "source": [
    "gr_dict[100.762]"
   ]
  },
  {
   "cell_type": "markdown",
   "id": "59",
   "metadata": {},
   "source": [
    "Better yet, I can use a Pandas Series..."
   ]
  },
  {
   "cell_type": "code",
   "execution_count": null,
   "id": "60",
   "metadata": {},
   "outputs": [],
   "source": [
    "import pandas as pd\n",
    "\n",
    "gr_series = pd.Series(gr, index=depth)\n",
    "gr_series"
   ]
  },
  {
   "cell_type": "code",
   "execution_count": null,
   "id": "61",
   "metadata": {},
   "outputs": [],
   "source": [
    "gr_series[100.762]"
   ]
  },
  {
   "cell_type": "code",
   "execution_count": null,
   "id": "62",
   "metadata": {},
   "outputs": [],
   "source": [
    "gr_series.plot()"
   ]
  },
  {
   "cell_type": "markdown",
   "id": "63",
   "metadata": {},
   "source": [
    "And even better yet, I can use an `xarray.DataArray`... but now we are definitely getting ahead of ourselves."
   ]
  },
  {
   "cell_type": "markdown",
   "id": "64",
   "metadata": {},
   "source": [
    "<hr />\n",
    "<small>\n",
    "<p>Copyright 2025 Matt Hall (Equinor)</p>\n",
    "\n",
    "<p>Permission is hereby granted, free of charge, to any person obtaining a copy of this software and associated documentation files (the “Software”), to deal in the Software without restriction, including without limitation the rights to use, copy, modify, merge, publish, distribute, sublicense, and/or sell copies of the Software, and to permit persons to whom the Software is furnished to do so, subject to the following conditions:</p>\n",
    "\n",
    "<p>The above copyright notice and this permission notice shall be included in all copies or substantial portions of the Software.</p>\n",
    "\n",
    "<p>THE SOFTWARE IS PROVIDED “AS IS”, WITHOUT WARRANTY OF ANY KIND, EXPRESS OR IMPLIED, INCLUDING BUT NOT LIMITED TO THE WARRANTIES OF MERCHANTABILITY, FITNESS FOR A PARTICULAR PURPOSE AND NONINFRINGEMENT. IN NO EVENT SHALL THE AUTHORS OR COPYRIGHT HOLDERS BE LIABLE FOR ANY CLAIM, DAMAGES OR OTHER LIABILITY, WHETHER IN AN ACTION OF CONTRACT, TORT OR OTHERWISE, ARISING FROM, OUT OF OR IN CONNECTION WITH THE SOFTWARE OR THE USE OR OTHER DEALINGS IN THE SOFTWARE.</p>\n",
    "</small>"
   ]
  }
 ],
 "metadata": {
  "kernelspec": {
   "display_name": "Python 3",
   "language": "python",
   "name": "Python 3"
  },
  "language_info": {
   "codemirror_mode": {
    "name": "ipython",
    "version": 3
   },
   "file_extension": ".py",
   "mimetype": "text/x-python",
   "name": "python",
   "nbconvert_exporter": "python",
   "pygments_lexer": "ipython3",
   "version": "3.11.6"
  }
 },
 "nbformat": 4,
 "nbformat_minor": 5
}
