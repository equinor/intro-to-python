{
 "cells": [
  {
   "cell_type": "markdown",
   "id": "0",
   "metadata": {
    "editable": true,
    "slideshow": {
     "slide_type": ""
    },
    "tags": []
   },
   "source": [
    "# Files\n",
    "\n",
    "In this notebook we'll look at getting data into and out of files:\n",
    "\n",
    "- Writing to a text file.\n",
    "- Reading from a text file.\n",
    "- Reading from lots of text files and reorganzing data.\n",
    "\n",
    "We won't talk about binary files.\n",
    "\n",
    "**In general, for reading most files, you will first look for a library that provides a file reader for your file type.**\n",
    "\n",
    "\n",
    "## Writing files\n",
    "\n",
    "Let's make a text file!\n",
    "\n",
    "We will need a way to refer to the file, using a **path**. For that, we can use `pathlib`. "
   ]
  },
  {
   "cell_type": "code",
   "execution_count": null,
   "id": "1",
   "metadata": {
    "editable": true,
    "slideshow": {
     "slide_type": ""
    },
    "tags": []
   },
   "outputs": [],
   "source": [
    "import pathlib\n",
    "\n",
    "file = pathlib.Path('./myfile.txt')\n",
    "\n",
    "file"
   ]
  },
  {
   "cell_type": "markdown",
   "id": "2",
   "metadata": {
    "editable": true,
    "slideshow": {
     "slide_type": ""
    },
    "tags": []
   },
   "source": [
    "This path objects knows about the file's name structure, and where the file is located on disk:"
   ]
  },
  {
   "cell_type": "code",
   "execution_count": null,
   "id": "3",
   "metadata": {
    "editable": true,
    "slideshow": {
     "slide_type": ""
    },
    "tags": []
   },
   "outputs": [],
   "source": [
    "file.stem, file.suffix, file.resolve()"
   ]
  },
  {
   "cell_type": "markdown",
   "id": "4",
   "metadata": {
    "editable": true,
    "slideshow": {
     "slide_type": ""
    },
    "tags": []
   },
   "source": [
    "We can write to the file like so:"
   ]
  },
  {
   "cell_type": "code",
   "execution_count": null,
   "id": "5",
   "metadata": {
    "editable": true,
    "slideshow": {
     "slide_type": ""
    },
    "tags": []
   },
   "outputs": [],
   "source": [
    "with file.open(mode='wt') as f:\n",
    "    f.write('My text data.')"
   ]
  },
  {
   "cell_type": "markdown",
   "id": "6",
   "metadata": {
    "editable": true,
    "slideshow": {
     "slide_type": ""
    },
    "tags": []
   },
   "source": [
    "There's also a shortcut method:"
   ]
  },
  {
   "cell_type": "code",
   "execution_count": null,
   "id": "7",
   "metadata": {
    "editable": true,
    "slideshow": {
     "slide_type": ""
    },
    "tags": []
   },
   "outputs": [],
   "source": [
    "file.write_text(\"My text data.\")"
   ]
  },
  {
   "cell_type": "markdown",
   "id": "8",
   "metadata": {
    "editable": true,
    "slideshow": {
     "slide_type": ""
    },
    "tags": [
     "exercise"
    ]
   },
   "source": [
    "<div style=\"background: #e0ffe0; border: solid 2px #d0f0d0; border-radius:3px; padding: 1em; color: darkgreen\">\n",
    "\n",
    "<h3>Exercise</h3>\n",
    "\n",
    "Write this small CSV to a file. <a title=\"Write a loop. You need to separate the lines with a newline character at the end of each line.\">HINT.</a>\n",
    "\n",
    "```\n",
    "lines = [\"depth,gr,rhob\", \"1022.1,78,2019\", \"1023.0,84,2034\", \"1023.9,89,2045\"]\n",
    "```\n",
    "</div>"
   ]
  },
  {
   "cell_type": "code",
   "execution_count": null,
   "id": "9",
   "metadata": {
    "editable": true,
    "slideshow": {
     "slide_type": ""
    },
    "tags": []
   },
   "outputs": [],
   "source": [
    "file = pathlib.Path('./mydata.csv')\n",
    "\n",
    "lines = [\"depth,gr,rhob\", \"1022.1,78,2019\", \"1023.0,84,2034\", \"1023.9,89,2045\"]\n",
    "\n",
    "# YOUR CODE HERE\n",
    "\n"
   ]
  },
  {
   "cell_type": "markdown",
   "id": "10",
   "metadata": {
    "editable": true,
    "slideshow": {
     "slide_type": ""
    },
    "tags": []
   },
   "source": [
    "### File modes\n",
    "\n",
    "You have to decide what you want to do with the file.\n",
    "\n",
    "- **`r`** &mdash; read only (default)\n",
    "- **`r+`** &mdash; read and write (pointer at 0 &mdash; careful to manage the pointer!)\n",
    "- **`x`** &mdash; open for exclusive creation, failing if the file already exists (add `+` for read and write)\n",
    "- **`w`** &mdash; write new file **and clobbers existing file if it already exists**\n",
    "- **`a`** &mdash; append existing\n",
    "\n",
    "You can also add another letter to indicate whether you're handling text or bytes:\n",
    "\n",
    "- **`t`** &mdash; text (default)\n",
    "- **`b`** &mdash; bytes\n",
    "\n",
    "For example, to open an existing text file for appending data to the end:\n",
    "\n",
    "    with open(fname, 'at') as f:\n",
    "        f.write('New data')"
   ]
  },
  {
   "cell_type": "markdown",
   "id": "11",
   "metadata": {},
   "source": [
    "---\n",
    "\n",
    "## Read a text file"
   ]
  },
  {
   "cell_type": "markdown",
   "id": "12",
   "metadata": {
    "editable": true,
    "slideshow": {
     "slide_type": ""
    },
    "tags": []
   },
   "source": [
    "There is a convenient way to read all the data in a small file:"
   ]
  },
  {
   "cell_type": "code",
   "execution_count": null,
   "id": "13",
   "metadata": {
    "editable": true,
    "slideshow": {
     "slide_type": ""
    },
    "tags": []
   },
   "outputs": [],
   "source": [
    "file.read_text()"
   ]
  },
  {
   "cell_type": "markdown",
   "id": "14",
   "metadata": {
    "editable": true,
    "slideshow": {
     "slide_type": ""
    },
    "tags": []
   },
   "source": [
    "If the file is very large, we might not want it all in memory. We can read it line by line:"
   ]
  },
  {
   "cell_type": "code",
   "execution_count": null,
   "id": "15",
   "metadata": {
    "editable": true,
    "slideshow": {
     "slide_type": ""
    },
    "tags": []
   },
   "outputs": [],
   "source": [
    "with file.open(mode='rt') as f:\n",
    "    line1 = f.readline()\n",
    "    line2 = f.readline()  # Note the pointer has moved.\n",
    "    rest_of_lines = f.readlines()\n",
    "\n",
    "line1, line2, rest_of_lines"
   ]
  },
  {
   "cell_type": "markdown",
   "id": "16",
   "metadata": {
    "editable": true,
    "slideshow": {
     "slide_type": ""
    },
    "tags": []
   },
   "source": [
    "We can also iterate over the lines to process each in turn:"
   ]
  },
  {
   "cell_type": "code",
   "execution_count": null,
   "id": "17",
   "metadata": {
    "editable": true,
    "slideshow": {
     "slide_type": ""
    },
    "tags": []
   },
   "outputs": [],
   "source": [
    "with file.open(mode='rt') as f:\n",
    "    for line in f:\n",
    "        print(line)"
   ]
  },
  {
   "cell_type": "markdown",
   "id": "18",
   "metadata": {
    "editable": true,
    "slideshow": {
     "slide_type": ""
    },
    "tags": [
     "exercise"
    ]
   },
   "source": [
    "<div style=\"background: #e0ffe0; border: solid 2px #d0f0d0; border-radius:3px; padding: 1em; color: darkgreen\">\n",
    "\n",
    "❓ Why does it look like there are blank lines in the file?\n",
    "</div>"
   ]
  },
  {
   "cell_type": "markdown",
   "id": "19",
   "metadata": {
    "editable": true,
    "slideshow": {
     "slide_type": ""
    },
    "tags": []
   },
   "source": [
    "### `pathlib.Path().open()` vs `open()`\n",
    "\n",
    "You will probably see tutorials etc that do it this way instead:\n",
    "\n",
    "```python\n",
    "path = './myfile.txt'\n",
    "\n",
    "# Write data.\n",
    "with open(path, 'w') as f:\n",
    "    f.write('My text data.')\n",
    "\n",
    "# Read data.\n",
    "with open(path, 'w') as f:\n",
    "    data = f.read()\n",
    "```\n",
    "\n",
    "And this is perfectly fine. But `pathlib` is incredibly useful, especially if you want to make things that run on different platforms (eg Linux and Windows). And it offers \"one obvious way\" to do things with files."
   ]
  },
  {
   "cell_type": "markdown",
   "id": "20",
   "metadata": {
    "editable": true,
    "slideshow": {
     "slide_type": ""
    },
    "tags": []
   },
   "source": [
    "## A sneak peek at Pandas\n",
    "\n",
    "Let's read our CSV file with Pandas!"
   ]
  },
  {
   "cell_type": "code",
   "execution_count": null,
   "id": "21",
   "metadata": {
    "editable": true,
    "slideshow": {
     "slide_type": ""
    },
    "tags": []
   },
   "outputs": [],
   "source": []
  },
  {
   "cell_type": "code",
   "execution_count": null,
   "id": "22",
   "metadata": {
    "editable": true,
    "slideshow": {
     "slide_type": ""
    },
    "tags": []
   },
   "outputs": [],
   "source": []
  },
  {
   "cell_type": "code",
   "execution_count": null,
   "id": "23",
   "metadata": {},
   "outputs": [],
   "source": []
  },
  {
   "cell_type": "markdown",
   "id": "24",
   "metadata": {
    "editable": true,
    "slideshow": {
     "slide_type": ""
    },
    "tags": []
   },
   "source": [
    "## Read a zip file\n",
    "\n",
    "The data for these exercises were generated from the following USGS dataset: https://pubs.usgs.gov/dds/dds-033/USGS_3D/ssx_txt/3dstart.htm\n",
    "\n",
    "We're going to read data from some specially formatted TOPS files. Let's check one out:"
   ]
  },
  {
   "cell_type": "code",
   "execution_count": null,
   "id": "25",
   "metadata": {
    "editable": true,
    "slideshow": {
     "slide_type": ""
    },
    "tags": []
   },
   "outputs": [],
   "source": [
    "import requests\n",
    "import io\n",
    "from zipfile import ZipFile\n",
    "\n",
    "url = \"https://github.com/scienxlab/datasets/raw/refs/heads/main/usgs/sussex.zip\"\n",
    "\n",
    "r = requests.get(url)\n",
    "file_like = io.BytesIO(r.content)\n",
    "\n",
    "with ZipFile(file_like) as zf:\n",
    "    for file in zf.namelist():\n",
    "        print(file)"
   ]
  },
  {
   "cell_type": "markdown",
   "id": "26",
   "metadata": {
    "editable": true,
    "slideshow": {
     "slide_type": ""
    },
    "tags": []
   },
   "source": [
    "We can also read a single file from the zip file:"
   ]
  },
  {
   "cell_type": "code",
   "execution_count": null,
   "id": "27",
   "metadata": {
    "editable": true,
    "slideshow": {
     "slide_type": ""
    },
    "tags": []
   },
   "outputs": [],
   "source": [
    "with ZipFile(file_like) as zf:\n",
    "    with zf.open('UWI_4900527320.tops', mode='r') as f:\n",
    "\n",
    "        # Print the name of the file.\n",
    "        print(f.name)\n",
    "        print(len(f.name) * '=')\n",
    "\n",
    "        # print the contents.\n",
    "        print(f.read().decode())"
   ]
  },
  {
   "cell_type": "markdown",
   "id": "28",
   "metadata": {
    "editable": true,
    "slideshow": {
     "slide_type": ""
    },
    "tags": []
   },
   "source": [
    "This is cool, and we could continue to read from the zip file like this, but I think the next part will be easier to understand if we extract the files:"
   ]
  },
  {
   "cell_type": "code",
   "execution_count": null,
   "id": "29",
   "metadata": {
    "editable": true,
    "slideshow": {
     "slide_type": ""
    },
    "tags": []
   },
   "outputs": [],
   "source": [
    "with ZipFile(file_like) as zf:\n",
    "    for file in zf.namelist():\n",
    "        zf.extract(file, path='./sussex')"
   ]
  },
  {
   "cell_type": "markdown",
   "id": "30",
   "metadata": {
    "editable": true,
    "slideshow": {
     "slide_type": ""
    },
    "tags": []
   },
   "source": [
    "### Globbing\n",
    "\n",
    "We can visit the files in a directory with ['globbing'](https://en.wikipedia.org/wiki/Glob_(programming)) patterns:"
   ]
  },
  {
   "cell_type": "code",
   "execution_count": null,
   "id": "31",
   "metadata": {
    "editable": true,
    "slideshow": {
     "slide_type": ""
    },
    "tags": []
   },
   "outputs": [],
   "source": [
    "path = pathlib.Path('./sussex')\n",
    "\n"
   ]
  },
  {
   "cell_type": "markdown",
   "id": "32",
   "metadata": {
    "editable": true,
    "slideshow": {
     "slide_type": ""
    },
    "tags": [
     "exercise"
    ]
   },
   "source": [
    "<div style=\"background: #e0ffe0; border: solid 2px #d0f0d0; border-radius:3px; padding: 1em; color: darkgreen\">\n",
    "\n",
    "<h3>Exercise</h3>\n",
    "\n",
    "- Write a `for` loop to read the lines of `UWI_4900527320.tops` one by one. <a title=\"Use either f.readlines() OR for line in f:\">**HINT**</a>\n",
    "- Find the line containing `UNITS:` and print the units abbreviation from it. <a title=\"Use the keyword 'in' to test for the substring 'UNITS:' then use the string method split(':') on the line to break it into parts.\">**HINT**</a>\n",
    "- You can add `break` after your print statement, as Python can stop reading the file at that point.\n",
    "</div>"
   ]
  },
  {
   "cell_type": "code",
   "execution_count": null,
   "id": "33",
   "metadata": {
    "editable": true,
    "slideshow": {
     "slide_type": ""
    },
    "tags": []
   },
   "outputs": [],
   "source": [
    "file = pathlib.Path('./sussex/UWI_4900527320.tops')\n",
    "\n",
    "# YOUR CODE HERE\n",
    "\n"
   ]
  },
  {
   "cell_type": "markdown",
   "id": "34",
   "metadata": {
    "editable": true,
    "slideshow": {
     "slide_type": ""
    },
    "tags": [
     "exercise"
    ]
   },
   "source": [
    "<div style=\"background: #e0ffe0; border: solid 2px #d0f0d0; border-radius:3px; padding: 1em; color: darkgreen\">\n",
    "\n",
    "<h3>Exercise</h3>\n",
    "\n",
    "Now retrieve the units **and** the value of the Top Cody formation, eg from the line like `\"Cody,2470.10\"`. <a title=\"Use `in` and `str.split()` as before. Remember to cast the value as a float.\">**HINT**</a>\n",
    "\n",
    "Print the depth value and the units.\n",
    "</div>"
   ]
  },
  {
   "cell_type": "code",
   "execution_count": null,
   "id": "35",
   "metadata": {
    "editable": true,
    "slideshow": {
     "slide_type": ""
    },
    "tags": []
   },
   "outputs": [],
   "source": [
    "# YOUR CODE HERE\n",
    "\n"
   ]
  },
  {
   "cell_type": "markdown",
   "id": "36",
   "metadata": {
    "editable": true,
    "slideshow": {
     "slide_type": ""
    },
    "tags": []
   },
   "source": [
    "### A quick word about units\n",
    "\n",
    "Don't try to mess about with units in real life, just use [`pint`](https://pint.readthedocs.io/en/0.10.1/tutorial.html)."
   ]
  },
  {
   "cell_type": "code",
   "execution_count": null,
   "id": "37",
   "metadata": {
    "editable": true,
    "slideshow": {
     "slide_type": ""
    },
    "tags": []
   },
   "outputs": [],
   "source": [
    "from pint import UnitRegistry\n",
    "\n",
    "ureg = UnitRegistry()\n",
    "Q_ = ureg.Quantity\n",
    "\n",
    "# Parse a string:\n",
    "quantity = Q_('2,470.1 m')\n",
    "quantity"
   ]
  },
  {
   "cell_type": "markdown",
   "id": "38",
   "metadata": {
    "editable": true,
    "slideshow": {
     "slide_type": ""
    },
    "tags": [
     "exercise"
    ]
   },
   "source": [
    "<div style=\"background: #e0ffe0; border: solid 2px #d0f0d0; border-radius:3px; padding: 1em; color: darkgreen\">\n",
    "\n",
    "<h3>Exercise</h3>\n",
    "\n",
    "Turn your code into a function that takes the filename as an argument. Return the value and the units.\n",
    "\n",
    "Don't forget the docstring!\n",
    "</div>"
   ]
  },
  {
   "cell_type": "code",
   "execution_count": null,
   "id": "39",
   "metadata": {
    "editable": true,
    "slideshow": {
     "slide_type": ""
    },
    "tags": []
   },
   "outputs": [],
   "source": [
    "def get_top_cody(file):\n",
    "\n",
    "    # YOUR CODE HERE\n",
    "\n"
   ]
  },
  {
   "cell_type": "markdown",
   "id": "40",
   "metadata": {
    "editable": true,
    "slideshow": {
     "slide_type": ""
    },
    "tags": []
   },
   "source": [
    "### Exercise\n",
    "\n",
    "There are several formations in these files: \n",
    "\n",
    "- Ardmore\n",
    "- Cody\n",
    "- Niobrara\n",
    "- Sussex Upper Top\n",
    "- Sussex Upper Base\n",
    "- Sussex Lower Top\n",
    "- Sussex Lower Base\n",
    "    \n",
    "Modify your function to extract the top of any formation.\n",
    "\n",
    "Before changing any code, ask yourself what is the smallest possible change you can make?"
   ]
  },
  {
   "cell_type": "code",
   "execution_count": null,
   "id": "41",
   "metadata": {
    "editable": true,
    "slideshow": {
     "slide_type": ""
    },
    "tags": []
   },
   "outputs": [],
   "source": [
    "get_top(file, formation):\n",
    "\n",
    "    # YOUR CODE HERE\n",
    "\n"
   ]
  },
  {
   "cell_type": "markdown",
   "id": "42",
   "metadata": {
    "editable": true,
    "slideshow": {
     "slide_type": ""
    },
    "tags": [
     "exercise"
    ]
   },
   "source": [
    "<div style=\"background: #e0ffe0; border: solid 2px #d0f0d0; border-radius:3px; padding: 1em; color: darkgreen\">\n",
    "\n",
    "<h3>Continue exploring</h3>\n",
    "\n",
    "Reminder: we don't really need to read these files, because we already have access to this data in a more useful format.\n",
    "\n",
    "But! You might like to continue improving the function. There is still lots to do:\n",
    "\n",
    "- Read all the files starting with `UWI_` and print the depth to top Niobrara for each one.\n",
    "- The units vary. Write a function to convert them all to 'ft' or 'm', and do the conversion. (You could also add the option to convert to the `get_tops()` function.)\n",
    "- The depths are relative to the ground level (GL). Read the GL value from the file and use it to correct the formation depth to elevation.\n",
    "- Read the location from the file and use these data to make a map, eg of the depth to the top Cody.\n",
    "- Instead of reading just one formation, you could iterate over the list of formations to get them all. You might have to deal with one or more being missing.\n",
    "- Or, you could read everything in the `Formations` section of the file. Then you don't need to know the list of formations in advance.\n",
    "- The files without `UWI_` at the start of the filename will need slightly different treatment (different comment character, different delimiter). Can you adapt your function to deal with all the files?\n",
    "\n",
    "</div>"
   ]
  },
  {
   "cell_type": "markdown",
   "id": "43",
   "metadata": {
    "editable": true,
    "slideshow": {
     "slide_type": ""
    },
    "tags": []
   },
   "source": [
    "<hr />\n",
    "<small>\n",
    "<p>Copyright 2025 Matt Hall (Equinor)</p>\n",
    "\n",
    "<p>Permission is hereby granted, free of charge, to any person obtaining a copy of this software and associated documentation files (the “Software”), to deal in the Software without restriction, including without limitation the rights to use, copy, modify, merge, publish, distribute, sublicense, and/or sell copies of the Software, and to permit persons to whom the Software is furnished to do so, subject to the following conditions:</p>\n",
    "\n",
    "<p>The above copyright notice and this permission notice shall be included in all copies or substantial portions of the Software.</p>\n",
    "\n",
    "<p>THE SOFTWARE IS PROVIDED “AS IS”, WITHOUT WARRANTY OF ANY KIND, EXPRESS OR IMPLIED, INCLUDING BUT NOT LIMITED TO THE WARRANTIES OF MERCHANTABILITY, FITNESS FOR A PARTICULAR PURPOSE AND NONINFRINGEMENT. IN NO EVENT SHALL THE AUTHORS OR COPYRIGHT HOLDERS BE LIABLE FOR ANY CLAIM, DAMAGES OR OTHER LIABILITY, WHETHER IN AN ACTION OF CONTRACT, TORT OR OTHERWISE, ARISING FROM, OUT OF OR IN CONNECTION WITH THE SOFTWARE OR THE USE OR OTHER DEALINGS IN THE SOFTWARE.</p>\n",
    "</small>"
   ]
  }
 ],
 "metadata": {
  "kernelspec": {
   "display_name": "Python 3",
   "language": "python",
   "name": "Python 3"
  },
  "language_info": {
   "codemirror_mode": {
    "name": "ipython",
    "version": 3
   },
   "file_extension": ".py",
   "mimetype": "text/x-python",
   "name": "python",
   "nbconvert_exporter": "python",
   "pygments_lexer": "ipython3",
   "version": "3.11.6"
  }
 },
 "nbformat": 4,
 "nbformat_minor": 5
}
